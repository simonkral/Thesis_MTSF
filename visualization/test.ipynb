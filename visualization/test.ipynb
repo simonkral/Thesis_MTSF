{
 "cells": [
  {
   "cell_type": "markdown",
   "id": "3aa4f1d7",
   "metadata": {},
   "source": [
    "### Visualize W&B results"
   ]
  },
  {
   "cell_type": "code",
   "execution_count": 1,
   "id": "1e6eff7e",
   "metadata": {},
   "outputs": [
    {
     "name": "stderr",
     "output_type": "stream",
     "text": [
      "\u001b[34m\u001b[1mwandb\u001b[0m: Currently logged in as: \u001b[33msimonkral99\u001b[0m (\u001b[33muni-ma\u001b[0m) to \u001b[32mhttps://api.wandb.ai\u001b[0m. Use \u001b[1m`wandb login --relogin`\u001b[0m to force relogin\n"
     ]
    },
    {
     "data": {
      "text/plain": [
       "True"
      ]
     },
     "execution_count": 1,
     "metadata": {},
     "output_type": "execute_result"
    }
   ],
   "source": [
    "import pandas as pd\n",
    "import matplotlib.pyplot as plt\n",
    "import wandb\n",
    "wandb.login()"
   ]
  },
  {
   "cell_type": "code",
   "execution_count": 2,
   "id": "34f63be8",
   "metadata": {},
   "outputs": [],
   "source": [
    "api = wandb.Api()\n",
    "\n",
    "# Replace with your actual W&B username and project name\n",
    "runs = api.runs(\"simonkral99/Thesis_MTSF\")"
   ]
  },
  {
   "cell_type": "code",
   "execution_count": 3,
   "id": "7c7147b4",
   "metadata": {},
   "outputs": [
    {
     "name": "stdout",
     "output_type": "stream",
     "text": [
      "run_DLinear_custom_104\n",
      "{'des': 'Exp', 'gpu': 0, 'itr': 1, 'd_ff': 2048, 'data': 'custom', 'freq': 'h', 'loss': 'mse', 'c_out': 7, 'embed': 'timeF', 'lradj': 'type3', 'model': 'DLinear', 'revin': 1, 'affine': 0, 'dec_in': 7, 'distil': True, 'enc_in': 7, 'factor': 1, 'stride': 8, 'target': 'OT', 'd_model': 512, 'devices': '0,1,2,3', 'dropout': 0.05, 'n_heads': 8, 'seq_len': 104, 'use_amp': False, 'use_gpu': True, 'd_layers': 1, 'e_layers': 2, 'features': 'M', 'model_id': 'national_illness_104_24', 'patience': 100, 'pred_len': 24, 'data_path': 'national_illness.csv', 'label_len': 18, 'patch_len': 16, 'pct_start': 0.3, 'root_path': './dataset/', 'test_flop': False, 'activation': 'gelu', 'batch_size': 32, 'do_predict': True, 'embed_type': 0, 'fc_dropout': 0.05, 'individual': 0, 'moving_avg': 25, 'checkpoints': './checkpoints/', 'is_training': 1, 'kernel_size': 25, 'num_workers': 10, 'random_seed': 2021, 'head_dropout': 0, 'train_epochs': 100, 'decomposition': 0, 'learning_rate': 0.01, 'padding_patch': 'end', 'subtract_last': 0, 'use_multi_gpu': False, 'output_attention': False}\n",
      "{'_runtime': 155.381528821, '_step': 100, '_timestamp': 1748259901.6946013, '_wandb': {'runtime': 156}, 'epoch': 99, 'mae': 0.9745134711265564, 'mse': 1.963897466659546, 'rse': 0.6762874722480774, 'test_loss': 1.9655284881591797, 'train_loss': 0.4167087910806431, 'val_loss': 0.28212088346481323}\n",
      "dict_keys(['des', 'gpu', 'itr', 'd_ff', 'data', 'freq', 'loss', 'c_out', 'embed', 'lradj', 'model', 'revin', 'affine', 'dec_in', 'distil', 'enc_in', 'factor', 'stride', 'target', 'd_model', 'devices', 'dropout', 'n_heads', 'seq_len', 'use_amp', 'use_gpu', 'd_layers', 'e_layers', 'features', 'model_id', 'patience', 'pred_len', 'data_path', 'label_len', 'patch_len', 'pct_start', 'root_path', 'test_flop', 'activation', 'batch_size', 'do_predict', 'embed_type', 'fc_dropout', 'individual', 'moving_avg', 'checkpoints', 'is_training', 'kernel_size', 'num_workers', 'random_seed', 'head_dropout', 'train_epochs', 'decomposition', 'learning_rate', 'padding_patch', 'subtract_last', 'use_multi_gpu', 'output_attention'])\n",
      "run_DLinear_ETTh1_336\n",
      "{'des': 'Exp', 'gpu': 0, 'itr': 1, 'd_ff': 2048, 'data': 'ETTh1', 'freq': 'h', 'loss': 'mse', 'c_out': 7, 'embed': 'timeF', 'lradj': 'type3', 'model': 'DLinear', 'revin': 1, 'affine': 0, 'dec_in': 7, 'distil': True, 'enc_in': 7, 'factor': 1, 'stride': 8, 'target': 'OT', 'd_model': 512, 'devices': '0,1,2,3', 'dropout': 0.05, 'n_heads': 8, 'seq_len': 336, 'use_amp': False, 'use_gpu': True, 'd_layers': 1, 'e_layers': 2, 'features': 'M', 'model_id': 'ETTh1_336_96', 'patience': 100, 'pred_len': 96, 'data_path': 'ETTh1.csv', 'label_len': 48, 'patch_len': 16, 'pct_start': 0.3, 'root_path': './dataset/', 'test_flop': False, 'activation': 'gelu', 'batch_size': 32, 'do_predict': False, 'embed_type': 0, 'fc_dropout': 0.05, 'individual': 0, 'moving_avg': 25, 'checkpoints': './checkpoints/', 'is_training': 1, 'kernel_size': 25, 'num_workers': 10, 'random_seed': 2021, 'head_dropout': 0, 'train_epochs': 100, 'decomposition': 0, 'learning_rate': 0.005, 'padding_patch': 'end', 'subtract_last': 0, 'use_multi_gpu': False, 'output_attention': False}\n",
      "{'_runtime': 245.625847833, '_step': 100, '_timestamp': 1748263672.761996, '_wandb': {'runtime': 246}, 'epoch': 99, 'mae': 0.3953787386417389, 'mse': 0.3728347420692444, 'rse': 0.5799785852432251, 'test_loss': 0.370192438364029, 'train_loss': 0.3296473770169541, 'val_loss': 0.6516820788383484}\n",
      "dict_keys(['des', 'gpu', 'itr', 'd_ff', 'data', 'freq', 'loss', 'c_out', 'embed', 'lradj', 'model', 'revin', 'affine', 'dec_in', 'distil', 'enc_in', 'factor', 'stride', 'target', 'd_model', 'devices', 'dropout', 'n_heads', 'seq_len', 'use_amp', 'use_gpu', 'd_layers', 'e_layers', 'features', 'model_id', 'patience', 'pred_len', 'data_path', 'label_len', 'patch_len', 'pct_start', 'root_path', 'test_flop', 'activation', 'batch_size', 'do_predict', 'embed_type', 'fc_dropout', 'individual', 'moving_avg', 'checkpoints', 'is_training', 'kernel_size', 'num_workers', 'random_seed', 'head_dropout', 'train_epochs', 'decomposition', 'learning_rate', 'padding_patch', 'subtract_last', 'use_multi_gpu', 'output_attention'])\n",
      "run_DLinear_ETTh2_336\n",
      "{'des': 'Exp', 'gpu': 0, 'itr': 1, 'd_ff': 2048, 'data': 'ETTh2', 'freq': 'h', 'loss': 'mse', 'c_out': 7, 'embed': 'timeF', 'lradj': 'type3', 'model': 'DLinear', 'revin': 1, 'affine': 0, 'dec_in': 7, 'distil': True, 'enc_in': 7, 'factor': 1, 'stride': 8, 'target': 'OT', 'd_model': 512, 'devices': '0,1,2,3', 'dropout': 0.05, 'n_heads': 8, 'seq_len': 336, 'use_amp': False, 'use_gpu': True, 'd_layers': 1, 'e_layers': 2, 'features': 'M', 'model_id': 'ETTh2_336_96', 'patience': 100, 'pred_len': 96, 'data_path': 'ETTh2.csv', 'label_len': 48, 'patch_len': 16, 'pct_start': 0.3, 'root_path': './dataset/', 'test_flop': False, 'activation': 'gelu', 'batch_size': 32, 'do_predict': False, 'embed_type': 0, 'fc_dropout': 0.05, 'individual': 0, 'moving_avg': 25, 'checkpoints': './checkpoints/', 'is_training': 1, 'kernel_size': 25, 'num_workers': 10, 'random_seed': 2021, 'head_dropout': 0, 'train_epochs': 100, 'decomposition': 0, 'learning_rate': 0.05, 'padding_patch': 'end', 'subtract_last': 0, 'use_multi_gpu': False, 'output_attention': False}\n",
      "{'_runtime': 225.600345808, '_step': 100, '_timestamp': 1748265615.0447466, '_wandb': {'runtime': 225}, 'epoch': 99, 'mae': 0.3441021740436554, 'mse': 0.27866607904434204, 'rse': 0.42538565397262573, 'test_loss': 0.3029758036136627, 'train_loss': 0.3787890960229561, 'val_loss': 0.2224364727735519}\n",
      "dict_keys(['des', 'gpu', 'itr', 'd_ff', 'data', 'freq', 'loss', 'c_out', 'embed', 'lradj', 'model', 'revin', 'affine', 'dec_in', 'distil', 'enc_in', 'factor', 'stride', 'target', 'd_model', 'devices', 'dropout', 'n_heads', 'seq_len', 'use_amp', 'use_gpu', 'd_layers', 'e_layers', 'features', 'model_id', 'patience', 'pred_len', 'data_path', 'label_len', 'patch_len', 'pct_start', 'root_path', 'test_flop', 'activation', 'batch_size', 'do_predict', 'embed_type', 'fc_dropout', 'individual', 'moving_avg', 'checkpoints', 'is_training', 'kernel_size', 'num_workers', 'random_seed', 'head_dropout', 'train_epochs', 'decomposition', 'learning_rate', 'padding_patch', 'subtract_last', 'use_multi_gpu', 'output_attention'])\n",
      "run_DLinear_ETTm1_336\n",
      "{'des': 'Exp', 'gpu': 0, 'itr': 1, 'd_ff': 2048, 'data': 'ETTm1', 'freq': 'h', 'loss': 'mse', 'c_out': 7, 'embed': 'timeF', 'lradj': 'type3', 'model': 'DLinear', 'revin': 1, 'affine': 0, 'dec_in': 7, 'distil': True, 'enc_in': 7, 'factor': 1, 'stride': 8, 'target': 'OT', 'd_model': 512, 'devices': '0,1,2,3', 'dropout': 0.05, 'n_heads': 8, 'seq_len': 336, 'use_amp': False, 'use_gpu': True, 'd_layers': 1, 'e_layers': 2, 'features': 'M', 'model_id': 'ETTm1_336_96', 'patience': 100, 'pred_len': 96, 'data_path': 'ETTm1.csv', 'label_len': 48, 'patch_len': 16, 'pct_start': 0.3, 'root_path': './dataset/', 'test_flop': False, 'activation': 'gelu', 'batch_size': 8, 'do_predict': False, 'embed_type': 0, 'fc_dropout': 0.05, 'individual': 0, 'moving_avg': 25, 'checkpoints': './checkpoints/', 'is_training': 1, 'kernel_size': 25, 'num_workers': 10, 'random_seed': 2021, 'head_dropout': 0, 'train_epochs': 100, 'decomposition': 0, 'learning_rate': 0.0001, 'padding_patch': 'end', 'subtract_last': 0, 'use_multi_gpu': False, 'output_attention': False}\n",
      "{'_runtime': 1617.833722172, '_step': 100, '_timestamp': 1748347104.14807, '_wandb': {'runtime': 1618}, 'epoch': 99, 'mae': 0.3464268147945404, 'mse': 0.3027706742286682, 'rse': 0.523582935333252, 'test_loss': 0.2993137240409851, 'train_loss': 0.26805713695054373, 'val_loss': 0.3821933567523956}\n",
      "dict_keys(['des', 'gpu', 'itr', 'd_ff', 'data', 'freq', 'loss', 'c_out', 'embed', 'lradj', 'model', 'revin', 'affine', 'dec_in', 'distil', 'enc_in', 'factor', 'stride', 'target', 'd_model', 'devices', 'dropout', 'n_heads', 'seq_len', 'use_amp', 'use_gpu', 'd_layers', 'e_layers', 'features', 'model_id', 'patience', 'pred_len', 'data_path', 'label_len', 'patch_len', 'pct_start', 'root_path', 'test_flop', 'activation', 'batch_size', 'do_predict', 'embed_type', 'fc_dropout', 'individual', 'moving_avg', 'checkpoints', 'is_training', 'kernel_size', 'num_workers', 'random_seed', 'head_dropout', 'train_epochs', 'decomposition', 'learning_rate', 'padding_patch', 'subtract_last', 'use_multi_gpu', 'output_attention'])\n",
      "run_DLinear_custom_336\n",
      "{'des': 'Exp', 'gpu': 0, 'itr': 1, 'd_ff': 2048, 'data': 'custom', 'freq': 'h', 'loss': 'mse', 'c_out': 7, 'embed': 'timeF', 'lradj': 'type3', 'model': 'DLinear', 'revin': 1, 'affine': 0, 'dec_in': 7, 'distil': True, 'enc_in': 862, 'factor': 1, 'stride': 8, 'target': 'OT', 'd_model': 512, 'devices': '0,1,2,3', 'dropout': 0.05, 'n_heads': 8, 'seq_len': 336, 'use_amp': False, 'use_gpu': True, 'd_layers': 1, 'e_layers': 2, 'features': 'M', 'model_id': 'traffic_336_96', 'patience': 100, 'pred_len': 96, 'data_path': 'traffic.csv', 'label_len': 48, 'patch_len': 16, 'pct_start': 0.3, 'root_path': './dataset/', 'test_flop': False, 'activation': 'gelu', 'batch_size': 16, 'do_predict': False, 'embed_type': 0, 'fc_dropout': 0.05, 'individual': 0, 'moving_avg': 25, 'checkpoints': './checkpoints/', 'is_training': 1, 'kernel_size': 25, 'num_workers': 10, 'random_seed': 2021, 'head_dropout': 0, 'train_epochs': 100, 'decomposition': 0, 'learning_rate': 0.05, 'padding_patch': 'end', 'subtract_last': 0, 'use_multi_gpu': False, 'output_attention': False}\n",
      "{'_runtime': 2883.160657656, '_step': 100, '_timestamp': 1748349612.1082926, '_wandb': {'runtime': 2884}, 'epoch': 99, 'mae': 0.2822222113609314, 'mse': 0.4102958738803863, 'rse': 0.5302300453186035, 'test_loss': 0.410147488117218, 'train_loss': 0.24492749602005287, 'val_loss': 0.33883610367774963}\n",
      "dict_keys(['des', 'gpu', 'itr', 'd_ff', 'data', 'freq', 'loss', 'c_out', 'embed', 'lradj', 'model', 'revin', 'affine', 'dec_in', 'distil', 'enc_in', 'factor', 'stride', 'target', 'd_model', 'devices', 'dropout', 'n_heads', 'seq_len', 'use_amp', 'use_gpu', 'd_layers', 'e_layers', 'features', 'model_id', 'patience', 'pred_len', 'data_path', 'label_len', 'patch_len', 'pct_start', 'root_path', 'test_flop', 'activation', 'batch_size', 'do_predict', 'embed_type', 'fc_dropout', 'individual', 'moving_avg', 'checkpoints', 'is_training', 'kernel_size', 'num_workers', 'random_seed', 'head_dropout', 'train_epochs', 'decomposition', 'learning_rate', 'padding_patch', 'subtract_last', 'use_multi_gpu', 'output_attention'])\n",
      "run_DLinear_custom_104\n",
      "{'des': 'Exp', 'gpu': 0, 'itr': 1, 'd_ff': 2048, 'data': 'custom', 'freq': 'h', 'loss': 'mse', 'c_out': 7, 'embed': 'timeF', 'lradj': 'type3', 'model': 'DLinear', 'revin': 1, 'affine': 0, 'dec_in': 7, 'distil': True, 'enc_in': 7, 'factor': 1, 'stride': 8, 'target': 'OT', 'd_model': 512, 'devices': '0,1,2,3', 'dropout': 0.05, 'n_heads': 8, 'seq_len': 104, 'use_amp': False, 'use_gpu': True, 'd_layers': 1, 'e_layers': 2, 'features': 'M', 'model_id': 'national_illness_104_36', 'patience': 100, 'pred_len': 36, 'data_path': 'national_illness.csv', 'label_len': 18, 'patch_len': 16, 'pct_start': 0.3, 'root_path': './dataset/', 'test_flop': False, 'activation': 'gelu', 'batch_size': 32, 'do_predict': False, 'embed_type': 0, 'fc_dropout': 0.05, 'individual': 0, 'moving_avg': 25, 'checkpoints': './checkpoints/', 'is_training': 1, 'kernel_size': 25, 'num_workers': 10, 'random_seed': 2021, 'head_dropout': 0, 'train_epochs': 100, 'decomposition': 0, 'learning_rate': 0.01, 'padding_patch': 'end', 'subtract_last': 0, 'use_multi_gpu': False, 'output_attention': False}\n",
      "{'_runtime': 132.930049798, '_step': 100, '_timestamp': 1748347291.7537837, '_wandb': {'runtime': 133}, 'epoch': 99, 'mae': 0.9980451464653016, 'mse': 2.0803866386413574, 'rse': 0.6973117589950562, 'test_loss': 2.081717014312744, 'train_loss': 0.4286212511360646, 'val_loss': 0.24853554368019104}\n",
      "dict_keys(['des', 'gpu', 'itr', 'd_ff', 'data', 'freq', 'loss', 'c_out', 'embed', 'lradj', 'model', 'revin', 'affine', 'dec_in', 'distil', 'enc_in', 'factor', 'stride', 'target', 'd_model', 'devices', 'dropout', 'n_heads', 'seq_len', 'use_amp', 'use_gpu', 'd_layers', 'e_layers', 'features', 'model_id', 'patience', 'pred_len', 'data_path', 'label_len', 'patch_len', 'pct_start', 'root_path', 'test_flop', 'activation', 'batch_size', 'do_predict', 'embed_type', 'fc_dropout', 'individual', 'moving_avg', 'checkpoints', 'is_training', 'kernel_size', 'num_workers', 'random_seed', 'head_dropout', 'train_epochs', 'decomposition', 'learning_rate', 'padding_patch', 'subtract_last', 'use_multi_gpu', 'output_attention'])\n",
      "run_DLinear_custom_104\n",
      "{'des': 'Exp', 'gpu': 0, 'itr': 1, 'd_ff': 2048, 'data': 'custom', 'freq': 'h', 'loss': 'mse', 'c_out': 7, 'embed': 'timeF', 'lradj': 'type3', 'model': 'DLinear', 'revin': 1, 'affine': 0, 'dec_in': 7, 'distil': True, 'enc_in': 7, 'factor': 1, 'stride': 8, 'target': 'OT', 'd_model': 512, 'devices': '0,1,2,3', 'dropout': 0.05, 'n_heads': 8, 'seq_len': 104, 'use_amp': False, 'use_gpu': True, 'd_layers': 1, 'e_layers': 2, 'features': 'M', 'model_id': 'national_illness_104_48', 'patience': 100, 'pred_len': 48, 'data_path': 'national_illness.csv', 'label_len': 18, 'patch_len': 16, 'pct_start': 0.3, 'root_path': './dataset/', 'test_flop': False, 'activation': 'gelu', 'batch_size': 32, 'do_predict': False, 'embed_type': 0, 'fc_dropout': 0.05, 'individual': 0, 'moving_avg': 25, 'checkpoints': './checkpoints/', 'is_training': 1, 'kernel_size': 25, 'num_workers': 10, 'random_seed': 2021, 'head_dropout': 0, 'train_epochs': 100, 'decomposition': 0, 'learning_rate': 0.01, 'padding_patch': 'end', 'subtract_last': 0, 'use_multi_gpu': False, 'output_attention': False}\n",
      "{'_runtime': 134.276266351, '_step': 100, '_timestamp': 1748347444.7928488, '_wandb': {'runtime': 134}, 'epoch': 99, 'mae': 1.0025016069412231, 'mse': 2.0640652179718018, 'rse': 0.6900765299797058, 'test_loss': 2.126819372177124, 'train_loss': 0.4639501478523016, 'val_loss': 0.24242857098579407}\n",
      "dict_keys(['des', 'gpu', 'itr', 'd_ff', 'data', 'freq', 'loss', 'c_out', 'embed', 'lradj', 'model', 'revin', 'affine', 'dec_in', 'distil', 'enc_in', 'factor', 'stride', 'target', 'd_model', 'devices', 'dropout', 'n_heads', 'seq_len', 'use_amp', 'use_gpu', 'd_layers', 'e_layers', 'features', 'model_id', 'patience', 'pred_len', 'data_path', 'label_len', 'patch_len', 'pct_start', 'root_path', 'test_flop', 'activation', 'batch_size', 'do_predict', 'embed_type', 'fc_dropout', 'individual', 'moving_avg', 'checkpoints', 'is_training', 'kernel_size', 'num_workers', 'random_seed', 'head_dropout', 'train_epochs', 'decomposition', 'learning_rate', 'padding_patch', 'subtract_last', 'use_multi_gpu', 'output_attention'])\n",
      "run_DLinear_custom_104\n",
      "{'des': 'Exp', 'gpu': 0, 'itr': 1, 'd_ff': 2048, 'data': 'custom', 'freq': 'h', 'loss': 'mse', 'c_out': 7, 'embed': 'timeF', 'lradj': 'type3', 'model': 'DLinear', 'revin': 1, 'affine': 0, 'dec_in': 7, 'distil': True, 'enc_in': 7, 'factor': 1, 'stride': 8, 'target': 'OT', 'd_model': 512, 'devices': '0,1,2,3', 'dropout': 0.05, 'n_heads': 8, 'seq_len': 104, 'use_amp': False, 'use_gpu': True, 'd_layers': 1, 'e_layers': 2, 'features': 'M', 'model_id': 'national_illness_104_60', 'patience': 100, 'pred_len': 60, 'data_path': 'national_illness.csv', 'label_len': 18, 'patch_len': 16, 'pct_start': 0.3, 'root_path': './dataset/', 'test_flop': False, 'activation': 'gelu', 'batch_size': 32, 'do_predict': False, 'embed_type': 0, 'fc_dropout': 0.05, 'individual': 0, 'moving_avg': 25, 'checkpoints': './checkpoints/', 'is_training': 1, 'kernel_size': 25, 'num_workers': 10, 'random_seed': 2021, 'head_dropout': 0, 'train_epochs': 100, 'decomposition': 0, 'learning_rate': 0.01, 'padding_patch': 'end', 'subtract_last': 0, 'use_multi_gpu': False, 'output_attention': False}\n",
      "{'_runtime': 134.668612189, '_step': 100, '_timestamp': 1748347597.8639462, '_wandb': {'runtime': 135}, 'epoch': 99, 'mae': 1.0759693384170532, 'mse': 2.2735347747802734, 'rse': 0.7205029129981995, 'test_loss': 2.3165204524993896, 'train_loss': 0.4761192109435797, 'val_loss': 0.2643539309501648}\n",
      "dict_keys(['des', 'gpu', 'itr', 'd_ff', 'data', 'freq', 'loss', 'c_out', 'embed', 'lradj', 'model', 'revin', 'affine', 'dec_in', 'distil', 'enc_in', 'factor', 'stride', 'target', 'd_model', 'devices', 'dropout', 'n_heads', 'seq_len', 'use_amp', 'use_gpu', 'd_layers', 'e_layers', 'features', 'model_id', 'patience', 'pred_len', 'data_path', 'label_len', 'patch_len', 'pct_start', 'root_path', 'test_flop', 'activation', 'batch_size', 'do_predict', 'embed_type', 'fc_dropout', 'individual', 'moving_avg', 'checkpoints', 'is_training', 'kernel_size', 'num_workers', 'random_seed', 'head_dropout', 'train_epochs', 'decomposition', 'learning_rate', 'padding_patch', 'subtract_last', 'use_multi_gpu', 'output_attention'])\n",
      "run_DLinear_ETTm1_336\n",
      "{'des': 'Exp', 'gpu': 0, 'itr': 1, 'd_ff': 2048, 'data': 'ETTm1', 'freq': 'h', 'loss': 'mse', 'c_out': 7, 'embed': 'timeF', 'lradj': 'type3', 'model': 'DLinear', 'revin': 1, 'affine': 0, 'dec_in': 7, 'distil': True, 'enc_in': 7, 'factor': 1, 'stride': 8, 'target': 'OT', 'd_model': 512, 'devices': '0,1,2,3', 'dropout': 0.05, 'n_heads': 8, 'seq_len': 336, 'use_amp': False, 'use_gpu': True, 'd_layers': 1, 'e_layers': 2, 'features': 'M', 'model_id': 'ETTm1_336_192', 'patience': 100, 'pred_len': 192, 'data_path': 'ETTm1.csv', 'label_len': 48, 'patch_len': 16, 'pct_start': 0.3, 'root_path': './dataset/', 'test_flop': False, 'activation': 'gelu', 'batch_size': 8, 'do_predict': False, 'embed_type': 0, 'fc_dropout': 0.05, 'individual': 0, 'moving_avg': 25, 'checkpoints': './checkpoints/', 'is_training': 1, 'kernel_size': 25, 'num_workers': 10, 'random_seed': 2021, 'head_dropout': 0, 'train_epochs': 100, 'decomposition': 0, 'learning_rate': 0.0001, 'padding_patch': 'end', 'subtract_last': 0, 'use_multi_gpu': False, 'output_attention': False}\n",
      "{'_runtime': 1634.089690927, '_step': 100, '_timestamp': 1748349333.280378, '_wandb': {'runtime': 1635}, 'epoch': 99, 'mae': 0.36797070503234863, 'mse': 0.3369397521018982, 'rse': 0.552551805973053, 'test_loss': 0.33401718735694885, 'train_loss': 0.30292279796948945, 'val_loss': 0.4899798035621643}\n",
      "dict_keys(['des', 'gpu', 'itr', 'd_ff', 'data', 'freq', 'loss', 'c_out', 'embed', 'lradj', 'model', 'revin', 'affine', 'dec_in', 'distil', 'enc_in', 'factor', 'stride', 'target', 'd_model', 'devices', 'dropout', 'n_heads', 'seq_len', 'use_amp', 'use_gpu', 'd_layers', 'e_layers', 'features', 'model_id', 'patience', 'pred_len', 'data_path', 'label_len', 'patch_len', 'pct_start', 'root_path', 'test_flop', 'activation', 'batch_size', 'do_predict', 'embed_type', 'fc_dropout', 'individual', 'moving_avg', 'checkpoints', 'is_training', 'kernel_size', 'num_workers', 'random_seed', 'head_dropout', 'train_epochs', 'decomposition', 'learning_rate', 'padding_patch', 'subtract_last', 'use_multi_gpu', 'output_attention'])\n",
      "run_DLinear_ETTm1_336\n",
      "{'des': 'Exp', 'gpu': 0, 'itr': 1, 'd_ff': 2048, 'data': 'ETTm1', 'freq': 'h', 'loss': 'mse', 'c_out': 7, 'embed': 'timeF', 'lradj': 'type3', 'model': 'DLinear', 'revin': 1, 'affine': 0, 'dec_in': 7, 'distil': True, 'enc_in': 7, 'factor': 1, 'stride': 8, 'target': 'OT', 'd_model': 512, 'devices': '0,1,2,3', 'dropout': 0.05, 'n_heads': 8, 'seq_len': 336, 'use_amp': False, 'use_gpu': True, 'd_layers': 1, 'e_layers': 2, 'features': 'M', 'model_id': 'ETTm1_336_336', 'patience': 100, 'pred_len': 336, 'data_path': 'ETTm1.csv', 'label_len': 48, 'patch_len': 16, 'pct_start': 0.3, 'root_path': './dataset/', 'test_flop': False, 'activation': 'gelu', 'batch_size': 8, 'do_predict': False, 'embed_type': 0, 'fc_dropout': 0.05, 'individual': 0, 'moving_avg': 25, 'checkpoints': './checkpoints/', 'is_training': 1, 'kernel_size': 25, 'num_workers': 10, 'random_seed': 2021, 'head_dropout': 0, 'train_epochs': 100, 'decomposition': 0, 'learning_rate': 0.0001, 'padding_patch': 'end', 'subtract_last': 0, 'use_multi_gpu': False, 'output_attention': False}\n",
      "{'_runtime': 1657.914602076, '_step': 100, '_timestamp': 1748351011.9012933, '_wandb': {'runtime': 1658}, 'epoch': 99, 'mae': 0.3881681561470032, 'mse': 0.37045058608055115, 'rse': 0.5791772603988647, 'test_loss': 0.3683808743953705, 'train_loss': 0.34146415783097656, 'val_loss': 0.6176456809043884}\n",
      "dict_keys(['des', 'gpu', 'itr', 'd_ff', 'data', 'freq', 'loss', 'c_out', 'embed', 'lradj', 'model', 'revin', 'affine', 'dec_in', 'distil', 'enc_in', 'factor', 'stride', 'target', 'd_model', 'devices', 'dropout', 'n_heads', 'seq_len', 'use_amp', 'use_gpu', 'd_layers', 'e_layers', 'features', 'model_id', 'patience', 'pred_len', 'data_path', 'label_len', 'patch_len', 'pct_start', 'root_path', 'test_flop', 'activation', 'batch_size', 'do_predict', 'embed_type', 'fc_dropout', 'individual', 'moving_avg', 'checkpoints', 'is_training', 'kernel_size', 'num_workers', 'random_seed', 'head_dropout', 'train_epochs', 'decomposition', 'learning_rate', 'padding_patch', 'subtract_last', 'use_multi_gpu', 'output_attention'])\n",
      "run_DLinear_custom_336\n",
      "{'des': 'Exp', 'gpu': 0, 'itr': 1, 'd_ff': 2048, 'data': 'custom', 'freq': 'h', 'loss': 'mse', 'c_out': 7, 'embed': 'timeF', 'lradj': 'type3', 'model': 'DLinear', 'revin': 1, 'affine': 0, 'dec_in': 7, 'distil': True, 'enc_in': 862, 'factor': 1, 'stride': 8, 'target': 'OT', 'd_model': 512, 'devices': '0,1,2,3', 'dropout': 0.05, 'n_heads': 8, 'seq_len': 336, 'use_amp': False, 'use_gpu': True, 'd_layers': 1, 'e_layers': 2, 'features': 'M', 'model_id': 'traffic_336_192', 'patience': 100, 'pred_len': 192, 'data_path': 'traffic.csv', 'label_len': 48, 'patch_len': 16, 'pct_start': 0.3, 'root_path': './dataset/', 'test_flop': False, 'activation': 'gelu', 'batch_size': 16, 'do_predict': False, 'embed_type': 0, 'fc_dropout': 0.05, 'individual': 0, 'moving_avg': 25, 'checkpoints': './checkpoints/', 'is_training': 1, 'kernel_size': 25, 'num_workers': 10, 'random_seed': 2021, 'head_dropout': 0, 'train_epochs': 100, 'decomposition': 0, 'learning_rate': 0.05, 'padding_patch': 'end', 'subtract_last': 0, 'use_multi_gpu': False, 'output_attention': False}\n",
      "{'_runtime': 3531.837183609, '_step': 100, '_timestamp': 1748353169.446613, '_wandb': {'runtime': 3532}, 'epoch': 99, 'mae': 0.28739771246910095, 'mse': 0.4225722849369049, 'rse': 0.5363330245018005, 'test_loss': 0.4225415885448456, 'train_loss': 0.2511249995239749, 'val_loss': 0.34523990750312805}\n",
      "dict_keys(['des', 'gpu', 'itr', 'd_ff', 'data', 'freq', 'loss', 'c_out', 'embed', 'lradj', 'model', 'revin', 'affine', 'dec_in', 'distil', 'enc_in', 'factor', 'stride', 'target', 'd_model', 'devices', 'dropout', 'n_heads', 'seq_len', 'use_amp', 'use_gpu', 'd_layers', 'e_layers', 'features', 'model_id', 'patience', 'pred_len', 'data_path', 'label_len', 'patch_len', 'pct_start', 'root_path', 'test_flop', 'activation', 'batch_size', 'do_predict', 'embed_type', 'fc_dropout', 'individual', 'moving_avg', 'checkpoints', 'is_training', 'kernel_size', 'num_workers', 'random_seed', 'head_dropout', 'train_epochs', 'decomposition', 'learning_rate', 'padding_patch', 'subtract_last', 'use_multi_gpu', 'output_attention'])\n",
      "run_DLinear_ETTm1_336\n",
      "{'des': 'Exp', 'gpu': 0, 'itr': 1, 'd_ff': 2048, 'data': 'ETTm1', 'freq': 'h', 'loss': 'mse', 'c_out': 7, 'embed': 'timeF', 'lradj': 'type3', 'model': 'DLinear', 'revin': 1, 'affine': 0, 'dec_in': 7, 'distil': True, 'enc_in': 7, 'factor': 1, 'stride': 8, 'target': 'OT', 'd_model': 512, 'devices': '0,1,2,3', 'dropout': 0.05, 'n_heads': 8, 'seq_len': 336, 'use_amp': False, 'use_gpu': True, 'd_layers': 1, 'e_layers': 2, 'features': 'M', 'model_id': 'ETTm1_336_720', 'patience': 100, 'pred_len': 720, 'data_path': 'ETTm1.csv', 'label_len': 48, 'patch_len': 16, 'pct_start': 0.3, 'root_path': './dataset/', 'test_flop': False, 'activation': 'gelu', 'batch_size': 8, 'do_predict': False, 'embed_type': 0, 'fc_dropout': 0.05, 'individual': 0, 'moving_avg': 25, 'checkpoints': './checkpoints/', 'is_training': 1, 'kernel_size': 25, 'num_workers': 10, 'random_seed': 2021, 'head_dropout': 0, 'train_epochs': 100, 'decomposition': 0, 'learning_rate': 0.0001, 'padding_patch': 'end', 'subtract_last': 0, 'use_multi_gpu': False, 'output_attention': False}\n",
      "{'_runtime': 1789.530370841, '_step': 100, '_timestamp': 1748352821.8165853, '_wandb': {'runtime': 1790}, 'epoch': 99, 'mae': 0.4222032129764557, 'mse': 0.42671269178390503, 'rse': 0.6214932799339294, 'test_loss': 0.4232955276966095, 'train_loss': 0.4003841571275006, 'val_loss': 0.8713854551315308}\n",
      "dict_keys(['des', 'gpu', 'itr', 'd_ff', 'data', 'freq', 'loss', 'c_out', 'embed', 'lradj', 'model', 'revin', 'affine', 'dec_in', 'distil', 'enc_in', 'factor', 'stride', 'target', 'd_model', 'devices', 'dropout', 'n_heads', 'seq_len', 'use_amp', 'use_gpu', 'd_layers', 'e_layers', 'features', 'model_id', 'patience', 'pred_len', 'data_path', 'label_len', 'patch_len', 'pct_start', 'root_path', 'test_flop', 'activation', 'batch_size', 'do_predict', 'embed_type', 'fc_dropout', 'individual', 'moving_avg', 'checkpoints', 'is_training', 'kernel_size', 'num_workers', 'random_seed', 'head_dropout', 'train_epochs', 'decomposition', 'learning_rate', 'padding_patch', 'subtract_last', 'use_multi_gpu', 'output_attention'])\n",
      "run_DLinear_custom_336\n",
      "{'des': 'Exp', 'gpu': 0, 'itr': 1, 'd_ff': 2048, 'data': 'custom', 'freq': 'h', 'loss': 'mse', 'c_out': 7, 'embed': 'timeF', 'lradj': 'type3', 'model': 'DLinear', 'revin': 1, 'affine': 0, 'dec_in': 7, 'distil': True, 'enc_in': 862, 'factor': 1, 'stride': 8, 'target': 'OT', 'd_model': 512, 'devices': '0,1,2,3', 'dropout': 0.05, 'n_heads': 8, 'seq_len': 336, 'use_amp': False, 'use_gpu': True, 'd_layers': 1, 'e_layers': 2, 'features': 'M', 'model_id': 'traffic_336_336', 'patience': 100, 'pred_len': 336, 'data_path': 'traffic.csv', 'label_len': 48, 'patch_len': 16, 'pct_start': 0.3, 'root_path': './dataset/', 'test_flop': False, 'activation': 'gelu', 'batch_size': 16, 'do_predict': False, 'embed_type': 0, 'fc_dropout': 0.05, 'individual': 0, 'moving_avg': 25, 'checkpoints': './checkpoints/', 'is_training': 1, 'kernel_size': 25, 'num_workers': 10, 'random_seed': 2021, 'head_dropout': 0, 'train_epochs': 100, 'decomposition': 0, 'learning_rate': 0.05, 'padding_patch': 'end', 'subtract_last': 0, 'use_multi_gpu': False, 'output_attention': False}\n",
      "{'_runtime': 4606.597056972, '_step': 100, '_timestamp': 1748357812.5037234, '_wandb': {'runtime': 4607}, 'epoch': 99, 'mae': 0.2952694296836853, 'mse': 0.4355081021785736, 'rse': 0.5422412753105164, 'test_loss': 0.4354889988899231, 'train_loss': 0.26159303058838024, 'val_loss': 0.3613843023777008}\n",
      "dict_keys(['des', 'gpu', 'itr', 'd_ff', 'data', 'freq', 'loss', 'c_out', 'embed', 'lradj', 'model', 'revin', 'affine', 'dec_in', 'distil', 'enc_in', 'factor', 'stride', 'target', 'd_model', 'devices', 'dropout', 'n_heads', 'seq_len', 'use_amp', 'use_gpu', 'd_layers', 'e_layers', 'features', 'model_id', 'patience', 'pred_len', 'data_path', 'label_len', 'patch_len', 'pct_start', 'root_path', 'test_flop', 'activation', 'batch_size', 'do_predict', 'embed_type', 'fc_dropout', 'individual', 'moving_avg', 'checkpoints', 'is_training', 'kernel_size', 'num_workers', 'random_seed', 'head_dropout', 'train_epochs', 'decomposition', 'learning_rate', 'padding_patch', 'subtract_last', 'use_multi_gpu', 'output_attention'])\n",
      "run_DLinear_custom_336\n",
      "{'des': 'Exp', 'gpu': 0, 'itr': 1, 'd_ff': 2048, 'data': 'custom', 'freq': 'h', 'loss': 'mse', 'c_out': 7, 'embed': 'timeF', 'lradj': 'type3', 'model': 'DLinear', 'revin': 1, 'affine': 0, 'dec_in': 7, 'distil': True, 'enc_in': 862, 'factor': 1, 'stride': 8, 'target': 'OT', 'd_model': 512, 'devices': '0,1,2,3', 'dropout': 0.05, 'n_heads': 8, 'seq_len': 336, 'use_amp': False, 'use_gpu': True, 'd_layers': 1, 'e_layers': 2, 'features': 'M', 'model_id': 'traffic_336_720', 'patience': 100, 'pred_len': 720, 'data_path': 'traffic.csv', 'label_len': 48, 'patch_len': 16, 'pct_start': 0.3, 'root_path': './dataset/', 'test_flop': False, 'activation': 'gelu', 'batch_size': 16, 'do_predict': False, 'embed_type': 0, 'fc_dropout': 0.05, 'individual': 0, 'moving_avg': 25, 'checkpoints': './checkpoints/', 'is_training': 1, 'kernel_size': 25, 'num_workers': 10, 'random_seed': 2021, 'head_dropout': 0, 'train_epochs': 100, 'decomposition': 0, 'learning_rate': 0.05, 'padding_patch': 'end', 'subtract_last': 0, 'use_multi_gpu': False, 'output_attention': False}\n",
      "{'_runtime': 3067.499719623, '_step': 45, '_timestamp': 1748360948.6197965, '_wandb': {'runtime': 3134}, 'epoch': 45, 'test_loss': 0.4704936146736145, 'train_loss': 0.2844812800727795, 'val_loss': 0.4107615351676941}\n",
      "dict_keys(['des', 'gpu', 'itr', 'd_ff', 'data', 'freq', 'loss', 'c_out', 'embed', 'lradj', 'model', 'revin', 'affine', 'dec_in', 'distil', 'enc_in', 'factor', 'stride', 'target', 'd_model', 'devices', 'dropout', 'n_heads', 'seq_len', 'use_amp', 'use_gpu', 'd_layers', 'e_layers', 'features', 'model_id', 'patience', 'pred_len', 'data_path', 'label_len', 'patch_len', 'pct_start', 'root_path', 'test_flop', 'activation', 'batch_size', 'do_predict', 'embed_type', 'fc_dropout', 'individual', 'moving_avg', 'checkpoints', 'is_training', 'kernel_size', 'num_workers', 'random_seed', 'head_dropout', 'train_epochs', 'decomposition', 'learning_rate', 'padding_patch', 'subtract_last', 'use_multi_gpu', 'output_attention'])\n",
      "run_Simon_DWSC_custom_104\n",
      "{'des': 'Exp', 'gpu': 0, 'itr': 1, 'd_ff': 2048, 'data': 'custom', 'freq': 'h', 'loss': 'mse', 'c_out': 7, 'embed': 'timeF', 'lradj': 'type3', 'model': 'Simon_DWSC', 'revin': 1, 'affine': 0, 'dec_in': 7, 'distil': True, 'enc_in': 7, 'factor': 1, 'stride': 8, 'target': 'OT', 'd_model': 512, 'devices': '0,1,2,3', 'dropout': 0.05, 'n_heads': 8, 'seq_len': 104, 'use_amp': False, 'use_gpu': True, 'd_layers': 1, 'e_layers': 2, 'features': 'M', 'model_id': 'national_illness_104_24', 'n_blocks': 1, 'patience': 100, 'pred_len': 24, 'data_path': 'national_illness.csv', 'label_len': 18, 'patch_len': 16, 'pct_start': 0.3, 'root_path': './dataset/', 'test_flop': False, 'activation': 'gelu', 'batch_size': 32, 'do_predict': False, 'embed_type': 0, 'fc_dropout': 0.05, 'individual': 0, 'moving_avg': 25, 'checkpoints': './checkpoints/', 'is_training': 1, 'kernel_size': 16, 'num_workers': 10, 'random_seed': 2021, 'head_dropout': 0, 'train_epochs': 100, 'decomposition': 0, 'learning_rate': 0.01, 'padding_patch': 'end', 'subtract_last': 0, 'use_multi_gpu': False, 'conv_kernel_size': 5, 'output_attention': False}\n",
      "{'_runtime': 173.770393274, '_step': 100, '_timestamp': 1748434173.6745214, '_wandb': {'runtime': 174}, 'epoch': 99, 'mae': 0.970181941986084, 'mse': 2.339893102645874, 'rse': 0.7381930351257324, 'test_loss': 2.3218464851379395, 'train_loss': 0.345575890120338, 'val_loss': 0.3011983633041382}\n",
      "dict_keys(['des', 'gpu', 'itr', 'd_ff', 'data', 'freq', 'loss', 'c_out', 'embed', 'lradj', 'model', 'revin', 'affine', 'dec_in', 'distil', 'enc_in', 'factor', 'stride', 'target', 'd_model', 'devices', 'dropout', 'n_heads', 'seq_len', 'use_amp', 'use_gpu', 'd_layers', 'e_layers', 'features', 'model_id', 'n_blocks', 'patience', 'pred_len', 'data_path', 'label_len', 'patch_len', 'pct_start', 'root_path', 'test_flop', 'activation', 'batch_size', 'do_predict', 'embed_type', 'fc_dropout', 'individual', 'moving_avg', 'checkpoints', 'is_training', 'kernel_size', 'num_workers', 'random_seed', 'head_dropout', 'train_epochs', 'decomposition', 'learning_rate', 'padding_patch', 'subtract_last', 'use_multi_gpu', 'conv_kernel_size', 'output_attention'])\n",
      "run_Simon_DWSC_custom_104\n",
      "{'des': 'Exp', 'gpu': 0, 'itr': 1, 'd_ff': 2048, 'data': 'custom', 'freq': 'h', 'loss': 'mse', 'c_out': 7, 'embed': 'timeF', 'lradj': 'type3', 'model': 'Simon_DWSC', 'revin': 1, 'affine': 0, 'dec_in': 7, 'distil': True, 'enc_in': 7, 'factor': 1, 'stride': 8, 'target': 'OT', 'd_model': 512, 'devices': '0,1,2,3', 'dropout': 0.05, 'n_heads': 8, 'seq_len': 104, 'use_amp': False, 'use_gpu': True, 'd_layers': 1, 'e_layers': 2, 'features': 'M', 'model_id': 'national_illness_104_60', 'n_blocks': 1, 'patience': 100, 'pred_len': 60, 'data_path': 'national_illness.csv', 'label_len': 18, 'patch_len': 16, 'pct_start': 0.3, 'root_path': './dataset/', 'test_flop': False, 'activation': 'gelu', 'batch_size': 32, 'do_predict': False, 'embed_type': 0, 'fc_dropout': 0.05, 'individual': 0, 'moving_avg': 25, 'checkpoints': './checkpoints/', 'is_training': 1, 'kernel_size': 16, 'num_workers': 10, 'random_seed': 2021, 'head_dropout': 0, 'train_epochs': 100, 'decomposition': 0, 'learning_rate': 0.01, 'padding_patch': 'end', 'subtract_last': 0, 'use_multi_gpu': False, 'conv_kernel_size': 5, 'output_attention': False}\n",
      "{'_runtime': 152.734724392, '_step': 100, '_timestamp': 1748434335.667347, '_wandb': {'runtime': 153}, 'epoch': 99, 'mae': 0.94146329164505, 'mse': 2.2839677333831787, 'rse': 0.7221541404724121, 'test_loss': 2.180936813354492, 'train_loss': 0.3977086385712027, 'val_loss': 0.2839715778827667}\n",
      "dict_keys(['des', 'gpu', 'itr', 'd_ff', 'data', 'freq', 'loss', 'c_out', 'embed', 'lradj', 'model', 'revin', 'affine', 'dec_in', 'distil', 'enc_in', 'factor', 'stride', 'target', 'd_model', 'devices', 'dropout', 'n_heads', 'seq_len', 'use_amp', 'use_gpu', 'd_layers', 'e_layers', 'features', 'model_id', 'n_blocks', 'patience', 'pred_len', 'data_path', 'label_len', 'patch_len', 'pct_start', 'root_path', 'test_flop', 'activation', 'batch_size', 'do_predict', 'embed_type', 'fc_dropout', 'individual', 'moving_avg', 'checkpoints', 'is_training', 'kernel_size', 'num_workers', 'random_seed', 'head_dropout', 'train_epochs', 'decomposition', 'learning_rate', 'padding_patch', 'subtract_last', 'use_multi_gpu', 'conv_kernel_size', 'output_attention'])\n",
      "run_Simon_DWSC_custom_104\n",
      "{'des': 'Exp', 'gpu': 0, 'itr': 1, 'd_ff': 2048, 'data': 'custom', 'freq': 'h', 'loss': 'mse', 'c_out': 7, 'embed': 'timeF', 'lradj': 'type3', 'model': 'Simon_DWSC', 'revin': 1, 'affine': 0, 'dec_in': 7, 'distil': True, 'enc_in': 7, 'factor': 1, 'stride': 8, 'target': 'OT', 'd_model': 512, 'devices': '0,1,2,3', 'dropout': 0.05, 'n_heads': 8, 'seq_len': 104, 'use_amp': False, 'use_gpu': True, 'd_layers': 1, 'e_layers': 2, 'features': 'M', 'model_id': 'national_illness_104_24', 'n_blocks': 1, 'patience': 100, 'pred_len': 24, 'data_path': 'national_illness.csv', 'label_len': 18, 'patch_len': 16, 'pct_start': 0.3, 'root_path': './dataset/', 'test_flop': False, 'activation': 'gelu', 'batch_size': 32, 'do_predict': False, 'embed_type': 0, 'fc_dropout': 0.05, 'individual': 0, 'moving_avg': 25, 'checkpoints': './checkpoints/', 'is_training': 1, 'kernel_size': 25, 'num_workers': 10, 'random_seed': 2021, 'head_dropout': 0, 'train_epochs': 100, 'decomposition': 0, 'learning_rate': 0.01, 'padding_patch': 'end', 'subtract_last': 0, 'use_multi_gpu': False, 'conv_kernel_size': 9, 'output_attention': False}\n",
      "{'_runtime': 145.905011519, '_step': 100, '_timestamp': 1748435156.07508, '_wandb': {'runtime': 145}, 'epoch': 99, 'mae': 1.0852603912353516, 'mse': 2.7383055686950684, 'rse': 0.7985697984695435, 'test_loss': 2.3069119453430176, 'train_loss': 0.34538693550754995, 'val_loss': 0.3399992883205414}\n",
      "dict_keys(['des', 'gpu', 'itr', 'd_ff', 'data', 'freq', 'loss', 'c_out', 'embed', 'lradj', 'model', 'revin', 'affine', 'dec_in', 'distil', 'enc_in', 'factor', 'stride', 'target', 'd_model', 'devices', 'dropout', 'n_heads', 'seq_len', 'use_amp', 'use_gpu', 'd_layers', 'e_layers', 'features', 'model_id', 'n_blocks', 'patience', 'pred_len', 'data_path', 'label_len', 'patch_len', 'pct_start', 'root_path', 'test_flop', 'activation', 'batch_size', 'do_predict', 'embed_type', 'fc_dropout', 'individual', 'moving_avg', 'checkpoints', 'is_training', 'kernel_size', 'num_workers', 'random_seed', 'head_dropout', 'train_epochs', 'decomposition', 'learning_rate', 'padding_patch', 'subtract_last', 'use_multi_gpu', 'conv_kernel_size', 'output_attention'])\n",
      "run_Simon_DWSC_custom_104\n",
      "{'des': 'Exp', 'gpu': 0, 'itr': 1, 'd_ff': 2048, 'data': 'custom', 'freq': 'h', 'loss': 'mse', 'c_out': 7, 'embed': 'timeF', 'lradj': 'type3', 'model': 'Simon_DWSC', 'revin': 1, 'affine': 0, 'dec_in': 7, 'distil': True, 'enc_in': 7, 'factor': 1, 'stride': 8, 'target': 'OT', 'd_model': 512, 'devices': '0,1,2,3', 'dropout': 0.05, 'n_heads': 8, 'seq_len': 104, 'use_amp': False, 'use_gpu': True, 'd_layers': 1, 'e_layers': 2, 'features': 'M', 'model_id': 'national_illness_104_60', 'n_blocks': 1, 'patience': 100, 'pred_len': 60, 'data_path': 'national_illness.csv', 'label_len': 18, 'patch_len': 16, 'pct_start': 0.3, 'root_path': './dataset/', 'test_flop': False, 'activation': 'gelu', 'batch_size': 32, 'do_predict': False, 'embed_type': 0, 'fc_dropout': 0.05, 'individual': 0, 'moving_avg': 25, 'checkpoints': './checkpoints/', 'is_training': 1, 'kernel_size': 25, 'num_workers': 10, 'random_seed': 2021, 'head_dropout': 0, 'train_epochs': 100, 'decomposition': 0, 'learning_rate': 0.01, 'padding_patch': 'end', 'subtract_last': 0, 'use_multi_gpu': False, 'conv_kernel_size': 9, 'output_attention': False}\n",
      "{'_runtime': 166.344478228, '_step': 100, '_timestamp': 1748435330.5352774, '_wandb': {'runtime': 167}, 'epoch': 99, 'mae': 1.1071616411209106, 'mse': 2.8301594257354736, 'rse': 0.8038784265518188, 'test_loss': 2.244429111480713, 'train_loss': 0.3804626651108265, 'val_loss': 0.3233334422111511}\n",
      "dict_keys(['des', 'gpu', 'itr', 'd_ff', 'data', 'freq', 'loss', 'c_out', 'embed', 'lradj', 'model', 'revin', 'affine', 'dec_in', 'distil', 'enc_in', 'factor', 'stride', 'target', 'd_model', 'devices', 'dropout', 'n_heads', 'seq_len', 'use_amp', 'use_gpu', 'd_layers', 'e_layers', 'features', 'model_id', 'n_blocks', 'patience', 'pred_len', 'data_path', 'label_len', 'patch_len', 'pct_start', 'root_path', 'test_flop', 'activation', 'batch_size', 'do_predict', 'embed_type', 'fc_dropout', 'individual', 'moving_avg', 'checkpoints', 'is_training', 'kernel_size', 'num_workers', 'random_seed', 'head_dropout', 'train_epochs', 'decomposition', 'learning_rate', 'padding_patch', 'subtract_last', 'use_multi_gpu', 'conv_kernel_size', 'output_attention'])\n",
      "run_Simon_DWSC_custom_104\n",
      "{'des': 'Exp', 'gpu': 0, 'itr': 1, 'd_ff': 2048, 'data': 'custom', 'freq': 'h', 'loss': 'mse', 'c_out': 7, 'embed': 'timeF', 'lradj': 'type3', 'model': 'Simon_DWSC', 'revin': 1, 'affine': 0, 'dec_in': 7, 'distil': True, 'enc_in': 7, 'factor': 1, 'stride': 8, 'target': 'OT', 'd_model': 512, 'devices': '0,1,2,3', 'dropout': 0.05, 'n_heads': 8, 'seq_len': 104, 'use_amp': False, 'use_gpu': True, 'd_layers': 1, 'e_layers': 2, 'features': 'M', 'model_id': 'national_illness_104_24', 'n_blocks': 1, 'patience': 100, 'pred_len': 24, 'data_path': 'national_illness.csv', 'label_len': 18, 'patch_len': 16, 'pct_start': 0.3, 'root_path': './dataset/', 'test_flop': False, 'activation': 'gelu', 'batch_size': 32, 'do_predict': False, 'embed_type': 0, 'fc_dropout': 0.05, 'individual': 0, 'moving_avg': 25, 'checkpoints': './checkpoints/', 'is_training': 1, 'kernel_size': 25, 'num_workers': 10, 'random_seed': 2021, 'head_dropout': 0, 'train_epochs': 100, 'decomposition': 0, 'learning_rate': 0.01, 'padding_patch': 'end', 'subtract_last': 0, 'use_multi_gpu': False, 'conv_kernel_size': 17, 'output_attention': False}\n",
      "{'_runtime': 143.788562376, '_step': 100, '_timestamp': 1748435554.04678, '_wandb': {'runtime': 143}, 'epoch': 99, 'mae': 0.9777731895446776, 'mse': 2.3134517669677734, 'rse': 0.7340103387832642, 'test_loss': 2.3134779930114746, 'train_loss': 0.34453972911133485, 'val_loss': 0.28950947523117065}\n",
      "dict_keys(['des', 'gpu', 'itr', 'd_ff', 'data', 'freq', 'loss', 'c_out', 'embed', 'lradj', 'model', 'revin', 'affine', 'dec_in', 'distil', 'enc_in', 'factor', 'stride', 'target', 'd_model', 'devices', 'dropout', 'n_heads', 'seq_len', 'use_amp', 'use_gpu', 'd_layers', 'e_layers', 'features', 'model_id', 'n_blocks', 'patience', 'pred_len', 'data_path', 'label_len', 'patch_len', 'pct_start', 'root_path', 'test_flop', 'activation', 'batch_size', 'do_predict', 'embed_type', 'fc_dropout', 'individual', 'moving_avg', 'checkpoints', 'is_training', 'kernel_size', 'num_workers', 'random_seed', 'head_dropout', 'train_epochs', 'decomposition', 'learning_rate', 'padding_patch', 'subtract_last', 'use_multi_gpu', 'conv_kernel_size', 'output_attention'])\n",
      "run_Simon_DWSC_custom_104\n",
      "{'des': 'Exp', 'gpu': 0, 'itr': 1, 'd_ff': 2048, 'data': 'custom', 'freq': 'h', 'loss': 'mse', 'c_out': 7, 'embed': 'timeF', 'lradj': 'type3', 'model': 'Simon_DWSC', 'revin': 1, 'affine': 0, 'dec_in': 7, 'distil': True, 'enc_in': 7, 'factor': 1, 'stride': 8, 'target': 'OT', 'd_model': 512, 'devices': '0,1,2,3', 'dropout': 0.05, 'n_heads': 8, 'seq_len': 104, 'use_amp': False, 'use_gpu': True, 'd_layers': 1, 'e_layers': 2, 'features': 'M', 'model_id': 'national_illness_104_60', 'n_blocks': 1, 'patience': 100, 'pred_len': 60, 'data_path': 'national_illness.csv', 'label_len': 18, 'patch_len': 16, 'pct_start': 0.3, 'root_path': './dataset/', 'test_flop': False, 'activation': 'gelu', 'batch_size': 32, 'do_predict': False, 'embed_type': 0, 'fc_dropout': 0.05, 'individual': 0, 'moving_avg': 25, 'checkpoints': './checkpoints/', 'is_training': 1, 'kernel_size': 25, 'num_workers': 10, 'random_seed': 2021, 'head_dropout': 0, 'train_epochs': 100, 'decomposition': 0, 'learning_rate': 0.01, 'padding_patch': 'end', 'subtract_last': 0, 'use_multi_gpu': False, 'conv_kernel_size': 17, 'output_attention': False}\n",
      "{'_runtime': 131.488936055, '_step': 100, '_timestamp': 1748435693.1507597, '_wandb': {'runtime': 131}, 'epoch': 99, 'mae': 0.98871111869812, 'mse': 2.3081748485565186, 'rse': 0.725970983505249, 'test_loss': 2.7024073600769043, 'train_loss': 0.35283438116312027, 'val_loss': 0.38941606879234314}\n",
      "dict_keys(['des', 'gpu', 'itr', 'd_ff', 'data', 'freq', 'loss', 'c_out', 'embed', 'lradj', 'model', 'revin', 'affine', 'dec_in', 'distil', 'enc_in', 'factor', 'stride', 'target', 'd_model', 'devices', 'dropout', 'n_heads', 'seq_len', 'use_amp', 'use_gpu', 'd_layers', 'e_layers', 'features', 'model_id', 'n_blocks', 'patience', 'pred_len', 'data_path', 'label_len', 'patch_len', 'pct_start', 'root_path', 'test_flop', 'activation', 'batch_size', 'do_predict', 'embed_type', 'fc_dropout', 'individual', 'moving_avg', 'checkpoints', 'is_training', 'kernel_size', 'num_workers', 'random_seed', 'head_dropout', 'train_epochs', 'decomposition', 'learning_rate', 'padding_patch', 'subtract_last', 'use_multi_gpu', 'conv_kernel_size', 'output_attention'])\n",
      "run_Simon_DWSC_ETTh1_104\n",
      "{'des': 'Exp', 'gpu': 0, 'itr': 1, 'd_ff': 2048, 'data': 'ETTh1', 'freq': 'h', 'loss': 'mse', 'c_out': 7, 'embed': 'timeF', 'lradj': 'type3', 'model': 'Simon_DWSC', 'revin': 1, 'affine': 0, 'dec_in': 7, 'distil': True, 'enc_in': 7, 'factor': 1, 'stride': 8, 'target': 'OT', 'd_model': 512, 'devices': '0,1,2,3', 'dropout': 0.05, 'n_heads': 8, 'seq_len': 104, 'use_amp': False, 'use_gpu': True, 'd_layers': 1, 'e_layers': 2, 'features': 'M', 'model_id': 'ETTh1_104_720', 'n_blocks': 1, 'patience': 100, 'pred_len': 96, 'data_path': 'ETTh1.csv', 'label_len': 48, 'patch_len': 16, 'pct_start': 0.3, 'root_path': './dataset/', 'test_flop': False, 'activation': 'gelu', 'batch_size': 32, 'do_predict': False, 'embed_type': 0, 'fc_dropout': 0.05, 'individual': 0, 'moving_avg': 25, 'checkpoints': './checkpoints/', 'is_training': 1, 'kernel_size': 25, 'num_workers': 10, 'random_seed': 2021, 'head_dropout': 0, 'train_epochs': 100, 'decomposition': 0, 'learning_rate': 0.005, 'padding_patch': 'end', 'subtract_last': 0, 'use_multi_gpu': False, 'conv_kernel_size': 17, 'output_attention': False}\n",
      "{'_runtime': 217.262272568, '_step': 100, '_timestamp': 1748436016.2453296, '_wandb': {'runtime': 217}, 'epoch': 99, 'mae': 0.4572162926197052, 'mse': 0.46112993359565735, 'rse': 0.6450085043907166, 'test_loss': 0.47460082173347473, 'train_loss': 0.3328043982783198, 'val_loss': 0.6760375499725342}\n",
      "dict_keys(['des', 'gpu', 'itr', 'd_ff', 'data', 'freq', 'loss', 'c_out', 'embed', 'lradj', 'model', 'revin', 'affine', 'dec_in', 'distil', 'enc_in', 'factor', 'stride', 'target', 'd_model', 'devices', 'dropout', 'n_heads', 'seq_len', 'use_amp', 'use_gpu', 'd_layers', 'e_layers', 'features', 'model_id', 'n_blocks', 'patience', 'pred_len', 'data_path', 'label_len', 'patch_len', 'pct_start', 'root_path', 'test_flop', 'activation', 'batch_size', 'do_predict', 'embed_type', 'fc_dropout', 'individual', 'moving_avg', 'checkpoints', 'is_training', 'kernel_size', 'num_workers', 'random_seed', 'head_dropout', 'train_epochs', 'decomposition', 'learning_rate', 'padding_patch', 'subtract_last', 'use_multi_gpu', 'conv_kernel_size', 'output_attention'])\n",
      "run_Simon_DWSC_ETTh1_104\n",
      "{'des': 'Exp', 'gpu': 0, 'itr': 1, 'd_ff': 2048, 'data': 'ETTh1', 'freq': 'h', 'loss': 'mse', 'c_out': 7, 'embed': 'timeF', 'lradj': 'type3', 'model': 'Simon_DWSC', 'revin': 1, 'affine': 0, 'dec_in': 7, 'distil': True, 'enc_in': 7, 'factor': 1, 'stride': 8, 'target': 'OT', 'd_model': 512, 'devices': '0,1,2,3', 'dropout': 0.05, 'n_heads': 8, 'seq_len': 104, 'use_amp': False, 'use_gpu': True, 'd_layers': 1, 'e_layers': 2, 'features': 'M', 'model_id': 'ETTh1_104_720', 'n_blocks': 1, 'patience': 100, 'pred_len': 720, 'data_path': 'ETTh1.csv', 'label_len': 48, 'patch_len': 16, 'pct_start': 0.3, 'root_path': './dataset/', 'test_flop': False, 'activation': 'gelu', 'batch_size': 32, 'do_predict': False, 'embed_type': 0, 'fc_dropout': 0.05, 'individual': 0, 'moving_avg': 25, 'checkpoints': './checkpoints/', 'is_training': 1, 'kernel_size': 25, 'num_workers': 10, 'random_seed': 2021, 'head_dropout': 0, 'train_epochs': 100, 'decomposition': 0, 'learning_rate': 0.005, 'padding_patch': 'end', 'subtract_last': 0, 'use_multi_gpu': False, 'conv_kernel_size': 17, 'output_attention': False}\n",
      "{'_runtime': 268.523150777, '_step': 100, '_timestamp': 1748436292.9310725, '_wandb': {'runtime': 269}, 'epoch': 99, 'mae': 0.8230029940605164, 'mse': 1.0457614660263062, 'rse': 0.979475200176239, 'test_loss': 1.3065669536590576, 'train_loss': 0.4549204483628273, 'val_loss': 1.2789257764816284}\n",
      "dict_keys(['des', 'gpu', 'itr', 'd_ff', 'data', 'freq', 'loss', 'c_out', 'embed', 'lradj', 'model', 'revin', 'affine', 'dec_in', 'distil', 'enc_in', 'factor', 'stride', 'target', 'd_model', 'devices', 'dropout', 'n_heads', 'seq_len', 'use_amp', 'use_gpu', 'd_layers', 'e_layers', 'features', 'model_id', 'n_blocks', 'patience', 'pred_len', 'data_path', 'label_len', 'patch_len', 'pct_start', 'root_path', 'test_flop', 'activation', 'batch_size', 'do_predict', 'embed_type', 'fc_dropout', 'individual', 'moving_avg', 'checkpoints', 'is_training', 'kernel_size', 'num_workers', 'random_seed', 'head_dropout', 'train_epochs', 'decomposition', 'learning_rate', 'padding_patch', 'subtract_last', 'use_multi_gpu', 'conv_kernel_size', 'output_attention'])\n",
      "run_Simon_DWSC_ETTh1_104\n",
      "{'des': 'Exp', 'gpu': 0, 'itr': 1, 'd_ff': 2048, 'data': 'ETTh1', 'freq': 'h', 'loss': 'mse', 'c_out': 7, 'embed': 'timeF', 'lradj': 'type3', 'model': 'Simon_DWSC', 'revin': 1, 'affine': 0, 'dec_in': 7, 'distil': True, 'enc_in': 7, 'factor': 1, 'stride': 8, 'target': 'OT', 'd_model': 512, 'devices': '0,1,2,3', 'dropout': 0.05, 'n_heads': 8, 'seq_len': 104, 'use_amp': False, 'use_gpu': True, 'd_layers': 1, 'e_layers': 2, 'features': 'M', 'model_id': 'ETTh1_104_720', 'n_blocks': 1, 'patience': 100, 'pred_len': 96, 'data_path': 'ETTh1.csv', 'label_len': 48, 'patch_len': 16, 'pct_start': 0.3, 'root_path': './dataset/', 'test_flop': False, 'activation': 'gelu', 'batch_size': 32, 'do_predict': False, 'embed_type': 0, 'fc_dropout': 0.05, 'individual': 0, 'moving_avg': 25, 'checkpoints': './checkpoints/', 'is_training': 1, 'kernel_size': 25, 'num_workers': 10, 'random_seed': 2021, 'head_dropout': 0, 'train_epochs': 100, 'decomposition': 0, 'learning_rate': 0.005, 'padding_patch': 'end', 'subtract_last': 0, 'use_multi_gpu': False, 'conv_kernel_size': 9, 'output_attention': False}\n",
      "{'_runtime': 216.564730453, '_step': 100, '_timestamp': 1748436560.5029926, '_wandb': {'runtime': 216}, 'epoch': 99, 'mae': 0.43220409750938416, 'mse': 0.4295559227466583, 'rse': 0.6225347518920898, 'test_loss': 0.43907684087753296, 'train_loss': 0.3348301171463252, 'val_loss': 0.676754355430603}\n",
      "dict_keys(['des', 'gpu', 'itr', 'd_ff', 'data', 'freq', 'loss', 'c_out', 'embed', 'lradj', 'model', 'revin', 'affine', 'dec_in', 'distil', 'enc_in', 'factor', 'stride', 'target', 'd_model', 'devices', 'dropout', 'n_heads', 'seq_len', 'use_amp', 'use_gpu', 'd_layers', 'e_layers', 'features', 'model_id', 'n_blocks', 'patience', 'pred_len', 'data_path', 'label_len', 'patch_len', 'pct_start', 'root_path', 'test_flop', 'activation', 'batch_size', 'do_predict', 'embed_type', 'fc_dropout', 'individual', 'moving_avg', 'checkpoints', 'is_training', 'kernel_size', 'num_workers', 'random_seed', 'head_dropout', 'train_epochs', 'decomposition', 'learning_rate', 'padding_patch', 'subtract_last', 'use_multi_gpu', 'conv_kernel_size', 'output_attention'])\n",
      "run_Simon_DWSC_ETTh1_104\n",
      "{'des': 'Exp', 'gpu': 0, 'itr': 1, 'd_ff': 2048, 'data': 'ETTh1', 'freq': 'h', 'loss': 'mse', 'c_out': 7, 'embed': 'timeF', 'lradj': 'type3', 'model': 'Simon_DWSC', 'revin': 1, 'affine': 0, 'dec_in': 7, 'distil': True, 'enc_in': 7, 'factor': 1, 'stride': 8, 'target': 'OT', 'd_model': 512, 'devices': '0,1,2,3', 'dropout': 0.05, 'n_heads': 8, 'seq_len': 104, 'use_amp': False, 'use_gpu': True, 'd_layers': 1, 'e_layers': 2, 'features': 'M', 'model_id': 'ETTh1_104_720', 'n_blocks': 1, 'patience': 100, 'pred_len': 720, 'data_path': 'ETTh1.csv', 'label_len': 48, 'patch_len': 16, 'pct_start': 0.3, 'root_path': './dataset/', 'test_flop': False, 'activation': 'gelu', 'batch_size': 32, 'do_predict': False, 'embed_type': 0, 'fc_dropout': 0.05, 'individual': 0, 'moving_avg': 25, 'checkpoints': './checkpoints/', 'is_training': 1, 'kernel_size': 25, 'num_workers': 10, 'random_seed': 2021, 'head_dropout': 0, 'train_epochs': 100, 'decomposition': 0, 'learning_rate': 0.005, 'padding_patch': 'end', 'subtract_last': 0, 'use_multi_gpu': False, 'conv_kernel_size': 9, 'output_attention': False}\n",
      "{'_runtime': 93.853373131, '_step': 38, '_timestamp': 1748436662.0322356, '_wandb': {'runtime': 93}, 'epoch': 38, 'test_loss': 1.1115213632583618, 'train_loss': 0.4637148617232432, 'val_loss': 1.222614884376526}\n",
      "dict_keys(['des', 'gpu', 'itr', 'd_ff', 'data', 'freq', 'loss', 'c_out', 'embed', 'lradj', 'model', 'revin', 'affine', 'dec_in', 'distil', 'enc_in', 'factor', 'stride', 'target', 'd_model', 'devices', 'dropout', 'n_heads', 'seq_len', 'use_amp', 'use_gpu', 'd_layers', 'e_layers', 'features', 'model_id', 'n_blocks', 'patience', 'pred_len', 'data_path', 'label_len', 'patch_len', 'pct_start', 'root_path', 'test_flop', 'activation', 'batch_size', 'do_predict', 'embed_type', 'fc_dropout', 'individual', 'moving_avg', 'checkpoints', 'is_training', 'kernel_size', 'num_workers', 'random_seed', 'head_dropout', 'train_epochs', 'decomposition', 'learning_rate', 'padding_patch', 'subtract_last', 'use_multi_gpu', 'conv_kernel_size', 'output_attention'])\n"
     ]
    }
   ],
   "source": [
    "for run in runs:\n",
    "    print(run.name)\n",
    "    print(run.config)   # hyperparameters\n",
    "    print(run.summary)  # final logged metrics\n",
    "    print(run.config.keys())"
   ]
  },
  {
   "cell_type": "code",
   "execution_count": null,
   "id": "57857fe2",
   "metadata": {},
   "outputs": [
    {
     "name": "stderr",
     "output_type": "stream",
     "text": [
      "/scratch/ipykernel_589429/41381907.py:15: SettingWithCopyWarning: \n",
      "A value is trying to be set on a copy of a slice from a DataFrame.\n",
      "Try using .loc[row_indexer,col_indexer] = value instead\n",
      "\n",
      "See the caveats in the documentation: https://pandas.pydata.org/pandas-docs/stable/user_guide/indexing.html#returning-a-view-versus-a-copy\n",
      "  df_subset['data_path'] = df_subset['data_path'].str.replace('.csv', '', regex=False)\n"
     ]
    },
    {
     "data": {
      "application/vnd.microsoft.datawrangler.viewer.v0+json": {
       "columns": [
        {
         "name": "index",
         "rawType": "int64",
         "type": "integer"
        },
        {
         "name": "model",
         "rawType": "object",
         "type": "string"
        },
        {
         "name": "pred_len",
         "rawType": "int64",
         "type": "integer"
        },
        {
         "name": "random_seed",
         "rawType": "int64",
         "type": "integer"
        },
        {
         "name": "data_path",
         "rawType": "object",
         "type": "string"
        },
        {
         "name": "mae",
         "rawType": "float64",
         "type": "float"
        },
        {
         "name": "mse",
         "rawType": "float64",
         "type": "float"
        },
        {
         "name": "conv_kernel_size",
         "rawType": "float64",
         "type": "float"
        }
       ],
       "ref": "0cd72f5d-37e5-4861-8305-9573b055e3e1",
       "rows": [
        [
         "14",
         "Simon_DWSC",
         "24",
         "2021",
         "national_illness",
         "0.970181941986084",
         "2.339893102645874",
         "5.0"
        ],
        [
         "15",
         "Simon_DWSC",
         "60",
         "2021",
         "national_illness",
         "0.94146329164505",
         "2.2839677333831787",
         "5.0"
        ],
        [
         "16",
         "Simon_DWSC",
         "24",
         "2021",
         "national_illness",
         "1.0852603912353516",
         "2.7383055686950684",
         "9.0"
        ],
        [
         "17",
         "Simon_DWSC",
         "60",
         "2021",
         "national_illness",
         "1.1071616411209106",
         "2.8301594257354736",
         "9.0"
        ],
        [
         "18",
         "Simon_DWSC",
         "24",
         "2021",
         "national_illness",
         "0.9777731895446776",
         "2.3134517669677734",
         "17.0"
        ],
        [
         "19",
         "Simon_DWSC",
         "60",
         "2021",
         "national_illness",
         "0.98871111869812",
         "2.3081748485565186",
         "17.0"
        ],
        [
         "20",
         "Simon_DWSC",
         "96",
         "2021",
         "ETTh1",
         "0.4572162926197052",
         "0.46112993359565735",
         "17.0"
        ],
        [
         "21",
         "Simon_DWSC",
         "720",
         "2021",
         "ETTh1",
         "0.8230029940605164",
         "1.0457614660263062",
         "17.0"
        ],
        [
         "22",
         "Simon_DWSC",
         "96",
         "2021",
         "ETTh1",
         "0.43220409750938416",
         "0.4295559227466583",
         "9.0"
        ]
       ],
       "shape": {
        "columns": 7,
        "rows": 9
       }
      },
      "text/html": [
       "<div>\n",
       "<style scoped>\n",
       "    .dataframe tbody tr th:only-of-type {\n",
       "        vertical-align: middle;\n",
       "    }\n",
       "\n",
       "    .dataframe tbody tr th {\n",
       "        vertical-align: top;\n",
       "    }\n",
       "\n",
       "    .dataframe thead th {\n",
       "        text-align: right;\n",
       "    }\n",
       "</style>\n",
       "<table border=\"1\" class=\"dataframe\">\n",
       "  <thead>\n",
       "    <tr style=\"text-align: right;\">\n",
       "      <th></th>\n",
       "      <th>model</th>\n",
       "      <th>pred_len</th>\n",
       "      <th>random_seed</th>\n",
       "      <th>data_path</th>\n",
       "      <th>mae</th>\n",
       "      <th>mse</th>\n",
       "      <th>conv_kernel_size</th>\n",
       "    </tr>\n",
       "  </thead>\n",
       "  <tbody>\n",
       "    <tr>\n",
       "      <th>14</th>\n",
       "      <td>Simon_DWSC</td>\n",
       "      <td>24</td>\n",
       "      <td>2021</td>\n",
       "      <td>national_illness</td>\n",
       "      <td>0.970182</td>\n",
       "      <td>2.339893</td>\n",
       "      <td>5.0</td>\n",
       "    </tr>\n",
       "    <tr>\n",
       "      <th>15</th>\n",
       "      <td>Simon_DWSC</td>\n",
       "      <td>60</td>\n",
       "      <td>2021</td>\n",
       "      <td>national_illness</td>\n",
       "      <td>0.941463</td>\n",
       "      <td>2.283968</td>\n",
       "      <td>5.0</td>\n",
       "    </tr>\n",
       "    <tr>\n",
       "      <th>16</th>\n",
       "      <td>Simon_DWSC</td>\n",
       "      <td>24</td>\n",
       "      <td>2021</td>\n",
       "      <td>national_illness</td>\n",
       "      <td>1.085260</td>\n",
       "      <td>2.738306</td>\n",
       "      <td>9.0</td>\n",
       "    </tr>\n",
       "    <tr>\n",
       "      <th>17</th>\n",
       "      <td>Simon_DWSC</td>\n",
       "      <td>60</td>\n",
       "      <td>2021</td>\n",
       "      <td>national_illness</td>\n",
       "      <td>1.107162</td>\n",
       "      <td>2.830159</td>\n",
       "      <td>9.0</td>\n",
       "    </tr>\n",
       "    <tr>\n",
       "      <th>18</th>\n",
       "      <td>Simon_DWSC</td>\n",
       "      <td>24</td>\n",
       "      <td>2021</td>\n",
       "      <td>national_illness</td>\n",
       "      <td>0.977773</td>\n",
       "      <td>2.313452</td>\n",
       "      <td>17.0</td>\n",
       "    </tr>\n",
       "    <tr>\n",
       "      <th>19</th>\n",
       "      <td>Simon_DWSC</td>\n",
       "      <td>60</td>\n",
       "      <td>2021</td>\n",
       "      <td>national_illness</td>\n",
       "      <td>0.988711</td>\n",
       "      <td>2.308175</td>\n",
       "      <td>17.0</td>\n",
       "    </tr>\n",
       "    <tr>\n",
       "      <th>20</th>\n",
       "      <td>Simon_DWSC</td>\n",
       "      <td>96</td>\n",
       "      <td>2021</td>\n",
       "      <td>ETTh1</td>\n",
       "      <td>0.457216</td>\n",
       "      <td>0.461130</td>\n",
       "      <td>17.0</td>\n",
       "    </tr>\n",
       "    <tr>\n",
       "      <th>21</th>\n",
       "      <td>Simon_DWSC</td>\n",
       "      <td>720</td>\n",
       "      <td>2021</td>\n",
       "      <td>ETTh1</td>\n",
       "      <td>0.823003</td>\n",
       "      <td>1.045761</td>\n",
       "      <td>17.0</td>\n",
       "    </tr>\n",
       "    <tr>\n",
       "      <th>22</th>\n",
       "      <td>Simon_DWSC</td>\n",
       "      <td>96</td>\n",
       "      <td>2021</td>\n",
       "      <td>ETTh1</td>\n",
       "      <td>0.432204</td>\n",
       "      <td>0.429556</td>\n",
       "      <td>9.0</td>\n",
       "    </tr>\n",
       "  </tbody>\n",
       "</table>\n",
       "</div>"
      ],
      "text/plain": [
       "         model  pred_len  random_seed         data_path       mae       mse  \\\n",
       "14  Simon_DWSC        24         2021  national_illness  0.970182  2.339893   \n",
       "15  Simon_DWSC        60         2021  national_illness  0.941463  2.283968   \n",
       "16  Simon_DWSC        24         2021  national_illness  1.085260  2.738306   \n",
       "17  Simon_DWSC        60         2021  national_illness  1.107162  2.830159   \n",
       "18  Simon_DWSC        24         2021  national_illness  0.977773  2.313452   \n",
       "19  Simon_DWSC        60         2021  national_illness  0.988711  2.308175   \n",
       "20  Simon_DWSC        96         2021             ETTh1  0.457216  0.461130   \n",
       "21  Simon_DWSC       720         2021             ETTh1  0.823003  1.045761   \n",
       "22  Simon_DWSC        96         2021             ETTh1  0.432204  0.429556   \n",
       "\n",
       "    conv_kernel_size  \n",
       "14               5.0  \n",
       "15               5.0  \n",
       "16               9.0  \n",
       "17               9.0  \n",
       "18              17.0  \n",
       "19              17.0  \n",
       "20              17.0  \n",
       "21              17.0  \n",
       "22               9.0  "
      ]
     },
     "metadata": {},
     "output_type": "display_data"
    }
   ],
   "source": [
    "\n",
    "run_data = []\n",
    "\n",
    "for run in runs:\n",
    "    summary = run.summary._json_dict\n",
    "    config = {k: v for k, v in run.config.items() if not k.startswith('_')}\n",
    "    run_data.append({**config, **summary, \"run_id\": run.id, \"name\": run.name})\n",
    "\n",
    "df = pd.DataFrame(run_data)\n",
    "\n",
    "\n",
    "columns_to_keep = ['model', 'pred_len', 'random_seed', 'data_path', 'mae', 'mse', 'conv_kernel_size']\n",
    "\n",
    "# Keep only those columns\n",
    "df_subset = df[columns_to_keep]\n",
    "df_subset['data_path'] = df_subset['data_path'].str.replace('.csv', '', regex=False)\n",
    "\n",
    "display(df_subset)\n",
    "#print(df.columns)"
   ]
  },
  {
   "cell_type": "markdown",
   "id": "d411320a",
   "metadata": {},
   "source": [
    "### HPO"
   ]
  },
  {
   "cell_type": "code",
   "execution_count": 13,
   "id": "b18d46d9",
   "metadata": {},
   "outputs": [],
   "source": [
    "model = \"Simon_DWSC\"\n",
    "data = \"ETTh1\"\n",
    "hyperparam = \"conv_kernel_size\"\n",
    "metric = \"mse\""
   ]
  },
  {
   "cell_type": "code",
   "execution_count": 14,
   "id": "cbf92cdd",
   "metadata": {},
   "outputs": [
    {
     "data": {
      "application/vnd.microsoft.datawrangler.viewer.v0+json": {
       "columns": [
        {
         "name": "index",
         "rawType": "int64",
         "type": "integer"
        },
        {
         "name": "model",
         "rawType": "object",
         "type": "string"
        },
        {
         "name": "pred_len",
         "rawType": "int64",
         "type": "integer"
        },
        {
         "name": "random_seed",
         "rawType": "int64",
         "type": "integer"
        },
        {
         "name": "data_path",
         "rawType": "object",
         "type": "string"
        },
        {
         "name": "mae",
         "rawType": "float64",
         "type": "float"
        },
        {
         "name": "mse",
         "rawType": "float64",
         "type": "float"
        },
        {
         "name": "conv_kernel_size",
         "rawType": "float64",
         "type": "float"
        }
       ],
       "ref": "dae53ad6-8cfd-4c46-a1ee-94ed0d267aac",
       "rows": [
        [
         "20",
         "Simon_DWSC",
         "96",
         "2021",
         "ETTh1",
         "0.4572162926197052",
         "0.46112993359565735",
         "17.0"
        ],
        [
         "21",
         "Simon_DWSC",
         "720",
         "2021",
         "ETTh1",
         "0.8230029940605164",
         "1.0457614660263062",
         "17.0"
        ],
        [
         "22",
         "Simon_DWSC",
         "96",
         "2021",
         "ETTh1",
         "0.43220409750938416",
         "0.4295559227466583",
         "9.0"
        ]
       ],
       "shape": {
        "columns": 7,
        "rows": 3
       }
      },
      "text/html": [
       "<div>\n",
       "<style scoped>\n",
       "    .dataframe tbody tr th:only-of-type {\n",
       "        vertical-align: middle;\n",
       "    }\n",
       "\n",
       "    .dataframe tbody tr th {\n",
       "        vertical-align: top;\n",
       "    }\n",
       "\n",
       "    .dataframe thead th {\n",
       "        text-align: right;\n",
       "    }\n",
       "</style>\n",
       "<table border=\"1\" class=\"dataframe\">\n",
       "  <thead>\n",
       "    <tr style=\"text-align: right;\">\n",
       "      <th></th>\n",
       "      <th>model</th>\n",
       "      <th>pred_len</th>\n",
       "      <th>random_seed</th>\n",
       "      <th>data_path</th>\n",
       "      <th>mae</th>\n",
       "      <th>mse</th>\n",
       "      <th>conv_kernel_size</th>\n",
       "    </tr>\n",
       "  </thead>\n",
       "  <tbody>\n",
       "    <tr>\n",
       "      <th>20</th>\n",
       "      <td>Simon_DWSC</td>\n",
       "      <td>96</td>\n",
       "      <td>2021</td>\n",
       "      <td>ETTh1</td>\n",
       "      <td>0.457216</td>\n",
       "      <td>0.461130</td>\n",
       "      <td>17.0</td>\n",
       "    </tr>\n",
       "    <tr>\n",
       "      <th>21</th>\n",
       "      <td>Simon_DWSC</td>\n",
       "      <td>720</td>\n",
       "      <td>2021</td>\n",
       "      <td>ETTh1</td>\n",
       "      <td>0.823003</td>\n",
       "      <td>1.045761</td>\n",
       "      <td>17.0</td>\n",
       "    </tr>\n",
       "    <tr>\n",
       "      <th>22</th>\n",
       "      <td>Simon_DWSC</td>\n",
       "      <td>96</td>\n",
       "      <td>2021</td>\n",
       "      <td>ETTh1</td>\n",
       "      <td>0.432204</td>\n",
       "      <td>0.429556</td>\n",
       "      <td>9.0</td>\n",
       "    </tr>\n",
       "  </tbody>\n",
       "</table>\n",
       "</div>"
      ],
      "text/plain": [
       "         model  pred_len  random_seed data_path       mae       mse  \\\n",
       "20  Simon_DWSC        96         2021     ETTh1  0.457216  0.461130   \n",
       "21  Simon_DWSC       720         2021     ETTh1  0.823003  1.045761   \n",
       "22  Simon_DWSC        96         2021     ETTh1  0.432204  0.429556   \n",
       "\n",
       "    conv_kernel_size  \n",
       "20              17.0  \n",
       "21              17.0  \n",
       "22               9.0  "
      ]
     },
     "metadata": {},
     "output_type": "display_data"
    },
    {
     "data": {
      "image/png": "[encoded data removed]",
      "text/plain": [
       "<Figure size 640x480 with 1 Axes>"
      ]
     },
     "metadata": {},
     "output_type": "display_data"
    }
   ],
   "source": [
    "df_hpo = df_subset[(df_subset['model'] == model) & (df_subset['data_path'] == data)]\n",
    "df_hpo = df_hpo.dropna()\n",
    "\n",
    "display(df_hpo.head())\n",
    "\n",
    "# Plotting\n",
    "plt.bar(df_hpo[hyperparam], df_hpo[metric])\n",
    "plt.xlabel(hyperparam)\n",
    "plt.ylabel(metric)\n",
    "plt.title(model + \" on \" + data)\n",
    "plt.xticks(rotation=45)\n",
    "plt.tight_layout()\n",
    "plt.show()"
   ]
  }
 ],
 "metadata": {
  "kernelspec": {
   "display_name": "PatchTST",
   "language": "python",
   "name": "python3"
  },
  "language_info": {
   "codemirror_mode": {
    "name": "ipython",
    "version": 3
   },
   "file_extension": ".py",
   "mimetype": "text/x-python",
   "name": "python",
   "nbconvert_exporter": "python",
   "pygments_lexer": "ipython3",
   "version": "3.10.16"
  }
 },
 "nbformat": 4,
 "nbformat_minor": 5
}
