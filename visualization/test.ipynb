{
 "cells": [
  {
   "cell_type": "markdown",
   "id": "3aa4f1d7",
   "metadata": {},
   "source": [
    "### Visualize W&B results"
   ]
  },
  {
   "cell_type": "code",
   "execution_count": null,
   "id": "1e6eff7e",
   "metadata": {},
   "outputs": [
    {
     "name": "stderr",
     "output_type": "stream",
     "text": [
      "\u001b[34m\u001b[1mwandb\u001b[0m: Currently logged in as: \u001b[33msimonkral99\u001b[0m (\u001b[33muni-ma\u001b[0m) to \u001b[32mhttps://api.wandb.ai\u001b[0m. Use \u001b[1m`wandb login --relogin`\u001b[0m to force relogin\n"
     ]
    },
    {
     "data": {
      "text/plain": [
       "True"
      ]
     },
     "execution_count": 1,
     "metadata": {},
     "output_type": "execute_result"
    }
   ],
   "source": [
    "import pandas as pd\n",
    "import wandb\n",
    "wandb.login()"
   ]
  },
  {
   "cell_type": "code",
   "execution_count": 2,
   "id": "34f63be8",
   "metadata": {},
   "outputs": [],
   "source": [
    "api = wandb.Api()\n",
    "\n",
    "# Replace with your actual W&B username and project name\n",
    "runs = api.runs(\"simonkral99/Thesis_MTSF\")"
   ]
  },
  {
   "cell_type": "code",
   "execution_count": null,
   "id": "7c7147b4",
   "metadata": {},
   "outputs": [
    {
     "name": "stdout",
     "output_type": "stream",
     "text": [
      "run_DLinear_custom_104\n",
      "{'des': 'Exp', 'gpu': 0, 'itr': 1, 'd_ff': 2048, 'data': 'custom', 'freq': 'h', 'loss': 'mse', 'c_out': 7, 'embed': 'timeF', 'lradj': 'type3', 'model': 'DLinear', 'revin': 1, 'affine': 0, 'dec_in': 7, 'distil': True, 'enc_in': 7, 'factor': 1, 'stride': 8, 'target': 'OT', 'd_model': 512, 'devices': '0,1,2,3', 'dropout': 0.05, 'n_heads': 8, 'seq_len': 104, 'use_amp': False, 'use_gpu': True, 'd_layers': 1, 'e_layers': 2, 'features': 'M', 'model_id': 'national_illness_104_24', 'patience': 100, 'pred_len': 24, 'data_path': 'national_illness.csv', 'label_len': 18, 'patch_len': 16, 'pct_start': 0.3, 'root_path': './dataset/', 'test_flop': False, 'activation': 'gelu', 'batch_size': 32, 'do_predict': True, 'embed_type': 0, 'fc_dropout': 0.05, 'individual': 0, 'moving_avg': 25, 'checkpoints': './checkpoints/', 'is_training': 1, 'kernel_size': 25, 'num_workers': 10, 'random_seed': 2021, 'head_dropout': 0, 'train_epochs': 100, 'decomposition': 0, 'learning_rate': 0.01, 'padding_patch': 'end', 'subtract_last': 0, 'use_multi_gpu': False, 'output_attention': False}\n",
      "{'_runtime': 155.381528821, '_step': 100, '_timestamp': 1748259901.6946013, '_wandb': {'runtime': 156}, 'epoch': 99, 'mae': 0.9745134711265564, 'mse': 1.963897466659546, 'rse': 0.6762874722480774, 'test_loss': 1.9655284881591797, 'train_loss': 0.4167087910806431, 'val_loss': 0.28212088346481323}\n",
      "dict_keys(['des', 'gpu', 'itr', 'd_ff', 'data', 'freq', 'loss', 'c_out', 'embed', 'lradj', 'model', 'revin', 'affine', 'dec_in', 'distil', 'enc_in', 'factor', 'stride', 'target', 'd_model', 'devices', 'dropout', 'n_heads', 'seq_len', 'use_amp', 'use_gpu', 'd_layers', 'e_layers', 'features', 'model_id', 'patience', 'pred_len', 'data_path', 'label_len', 'patch_len', 'pct_start', 'root_path', 'test_flop', 'activation', 'batch_size', 'do_predict', 'embed_type', 'fc_dropout', 'individual', 'moving_avg', 'checkpoints', 'is_training', 'kernel_size', 'num_workers', 'random_seed', 'head_dropout', 'train_epochs', 'decomposition', 'learning_rate', 'padding_patch', 'subtract_last', 'use_multi_gpu', 'output_attention'])\n",
      "run_DLinear_ETTh1_336\n",
      "{'des': 'Exp', 'gpu': 0, 'itr': 1, 'd_ff': 2048, 'data': 'ETTh1', 'freq': 'h', 'loss': 'mse', 'c_out': 7, 'embed': 'timeF', 'lradj': 'type3', 'model': 'DLinear', 'revin': 1, 'affine': 0, 'dec_in': 7, 'distil': True, 'enc_in': 7, 'factor': 1, 'stride': 8, 'target': 'OT', 'd_model': 512, 'devices': '0,1,2,3', 'dropout': 0.05, 'n_heads': 8, 'seq_len': 336, 'use_amp': False, 'use_gpu': True, 'd_layers': 1, 'e_layers': 2, 'features': 'M', 'model_id': 'ETTh1_336_96', 'patience': 100, 'pred_len': 96, 'data_path': 'ETTh1.csv', 'label_len': 48, 'patch_len': 16, 'pct_start': 0.3, 'root_path': './dataset/', 'test_flop': False, 'activation': 'gelu', 'batch_size': 32, 'do_predict': False, 'embed_type': 0, 'fc_dropout': 0.05, 'individual': 0, 'moving_avg': 25, 'checkpoints': './checkpoints/', 'is_training': 1, 'kernel_size': 25, 'num_workers': 10, 'random_seed': 2021, 'head_dropout': 0, 'train_epochs': 100, 'decomposition': 0, 'learning_rate': 0.005, 'padding_patch': 'end', 'subtract_last': 0, 'use_multi_gpu': False, 'output_attention': False}\n",
      "{'_runtime': 245.625847833, '_step': 100, '_timestamp': 1748263672.761996, '_wandb': {'runtime': 246}, 'epoch': 99, 'mae': 0.3953787386417389, 'mse': 0.3728347420692444, 'rse': 0.5799785852432251, 'test_loss': 0.370192438364029, 'train_loss': 0.3296473770169541, 'val_loss': 0.6516820788383484}\n",
      "dict_keys(['des', 'gpu', 'itr', 'd_ff', 'data', 'freq', 'loss', 'c_out', 'embed', 'lradj', 'model', 'revin', 'affine', 'dec_in', 'distil', 'enc_in', 'factor', 'stride', 'target', 'd_model', 'devices', 'dropout', 'n_heads', 'seq_len', 'use_amp', 'use_gpu', 'd_layers', 'e_layers', 'features', 'model_id', 'patience', 'pred_len', 'data_path', 'label_len', 'patch_len', 'pct_start', 'root_path', 'test_flop', 'activation', 'batch_size', 'do_predict', 'embed_type', 'fc_dropout', 'individual', 'moving_avg', 'checkpoints', 'is_training', 'kernel_size', 'num_workers', 'random_seed', 'head_dropout', 'train_epochs', 'decomposition', 'learning_rate', 'padding_patch', 'subtract_last', 'use_multi_gpu', 'output_attention'])\n",
      "run_DLinear_ETTh2_336\n",
      "{'des': 'Exp', 'gpu': 0, 'itr': 1, 'd_ff': 2048, 'data': 'ETTh2', 'freq': 'h', 'loss': 'mse', 'c_out': 7, 'embed': 'timeF', 'lradj': 'type3', 'model': 'DLinear', 'revin': 1, 'affine': 0, 'dec_in': 7, 'distil': True, 'enc_in': 7, 'factor': 1, 'stride': 8, 'target': 'OT', 'd_model': 512, 'devices': '0,1,2,3', 'dropout': 0.05, 'n_heads': 8, 'seq_len': 336, 'use_amp': False, 'use_gpu': True, 'd_layers': 1, 'e_layers': 2, 'features': 'M', 'model_id': 'ETTh2_336_96', 'patience': 100, 'pred_len': 96, 'data_path': 'ETTh2.csv', 'label_len': 48, 'patch_len': 16, 'pct_start': 0.3, 'root_path': './dataset/', 'test_flop': False, 'activation': 'gelu', 'batch_size': 32, 'do_predict': False, 'embed_type': 0, 'fc_dropout': 0.05, 'individual': 0, 'moving_avg': 25, 'checkpoints': './checkpoints/', 'is_training': 1, 'kernel_size': 25, 'num_workers': 10, 'random_seed': 2021, 'head_dropout': 0, 'train_epochs': 100, 'decomposition': 0, 'learning_rate': 0.05, 'padding_patch': 'end', 'subtract_last': 0, 'use_multi_gpu': False, 'output_attention': False}\n",
      "{'_runtime': 225.600345808, '_step': 100, '_timestamp': 1748265615.0447466, '_wandb': {'runtime': 225}, 'epoch': 99, 'mae': 0.3441021740436554, 'mse': 0.27866607904434204, 'rse': 0.42538565397262573, 'test_loss': 0.3029758036136627, 'train_loss': 0.3787890960229561, 'val_loss': 0.2224364727735519}\n",
      "dict_keys(['des', 'gpu', 'itr', 'd_ff', 'data', 'freq', 'loss', 'c_out', 'embed', 'lradj', 'model', 'revin', 'affine', 'dec_in', 'distil', 'enc_in', 'factor', 'stride', 'target', 'd_model', 'devices', 'dropout', 'n_heads', 'seq_len', 'use_amp', 'use_gpu', 'd_layers', 'e_layers', 'features', 'model_id', 'patience', 'pred_len', 'data_path', 'label_len', 'patch_len', 'pct_start', 'root_path', 'test_flop', 'activation', 'batch_size', 'do_predict', 'embed_type', 'fc_dropout', 'individual', 'moving_avg', 'checkpoints', 'is_training', 'kernel_size', 'num_workers', 'random_seed', 'head_dropout', 'train_epochs', 'decomposition', 'learning_rate', 'padding_patch', 'subtract_last', 'use_multi_gpu', 'output_attention'])\n",
      "run_DLinear_ETTm1_336\n",
      "{'des': 'Exp', 'gpu': 0, 'itr': 1, 'd_ff': 2048, 'data': 'ETTm1', 'freq': 'h', 'loss': 'mse', 'c_out': 7, 'embed': 'timeF', 'lradj': 'type3', 'model': 'DLinear', 'revin': 1, 'affine': 0, 'dec_in': 7, 'distil': True, 'enc_in': 7, 'factor': 1, 'stride': 8, 'target': 'OT', 'd_model': 512, 'devices': '0,1,2,3', 'dropout': 0.05, 'n_heads': 8, 'seq_len': 336, 'use_amp': False, 'use_gpu': True, 'd_layers': 1, 'e_layers': 2, 'features': 'M', 'model_id': 'ETTm1_336_96', 'patience': 100, 'pred_len': 96, 'data_path': 'ETTm1.csv', 'label_len': 48, 'patch_len': 16, 'pct_start': 0.3, 'root_path': './dataset/', 'test_flop': False, 'activation': 'gelu', 'batch_size': 8, 'do_predict': False, 'embed_type': 0, 'fc_dropout': 0.05, 'individual': 0, 'moving_avg': 25, 'checkpoints': './checkpoints/', 'is_training': 1, 'kernel_size': 25, 'num_workers': 10, 'random_seed': 2021, 'head_dropout': 0, 'train_epochs': 100, 'decomposition': 0, 'learning_rate': 0.0001, 'padding_patch': 'end', 'subtract_last': 0, 'use_multi_gpu': False, 'output_attention': False}\n",
      "{'_runtime': 1617.833722172, '_step': 100, '_timestamp': 1748347104.14807, '_wandb': {'runtime': 1618}, 'epoch': 99, 'mae': 0.3464268147945404, 'mse': 0.3027706742286682, 'rse': 0.523582935333252, 'test_loss': 0.2993137240409851, 'train_loss': 0.26805713695054373, 'val_loss': 0.3821933567523956}\n",
      "dict_keys(['des', 'gpu', 'itr', 'd_ff', 'data', 'freq', 'loss', 'c_out', 'embed', 'lradj', 'model', 'revin', 'affine', 'dec_in', 'distil', 'enc_in', 'factor', 'stride', 'target', 'd_model', 'devices', 'dropout', 'n_heads', 'seq_len', 'use_amp', 'use_gpu', 'd_layers', 'e_layers', 'features', 'model_id', 'patience', 'pred_len', 'data_path', 'label_len', 'patch_len', 'pct_start', 'root_path', 'test_flop', 'activation', 'batch_size', 'do_predict', 'embed_type', 'fc_dropout', 'individual', 'moving_avg', 'checkpoints', 'is_training', 'kernel_size', 'num_workers', 'random_seed', 'head_dropout', 'train_epochs', 'decomposition', 'learning_rate', 'padding_patch', 'subtract_last', 'use_multi_gpu', 'output_attention'])\n",
      "run_DLinear_custom_336\n",
      "{'des': 'Exp', 'gpu': 0, 'itr': 1, 'd_ff': 2048, 'data': 'custom', 'freq': 'h', 'loss': 'mse', 'c_out': 7, 'embed': 'timeF', 'lradj': 'type3', 'model': 'DLinear', 'revin': 1, 'affine': 0, 'dec_in': 7, 'distil': True, 'enc_in': 862, 'factor': 1, 'stride': 8, 'target': 'OT', 'd_model': 512, 'devices': '0,1,2,3', 'dropout': 0.05, 'n_heads': 8, 'seq_len': 336, 'use_amp': False, 'use_gpu': True, 'd_layers': 1, 'e_layers': 2, 'features': 'M', 'model_id': 'traffic_336_96', 'patience': 100, 'pred_len': 96, 'data_path': 'traffic.csv', 'label_len': 48, 'patch_len': 16, 'pct_start': 0.3, 'root_path': './dataset/', 'test_flop': False, 'activation': 'gelu', 'batch_size': 16, 'do_predict': False, 'embed_type': 0, 'fc_dropout': 0.05, 'individual': 0, 'moving_avg': 25, 'checkpoints': './checkpoints/', 'is_training': 1, 'kernel_size': 25, 'num_workers': 10, 'random_seed': 2021, 'head_dropout': 0, 'train_epochs': 100, 'decomposition': 0, 'learning_rate': 0.05, 'padding_patch': 'end', 'subtract_last': 0, 'use_multi_gpu': False, 'output_attention': False}\n",
      "{'_runtime': 2405.332416293, '_step': 83, '_timestamp': 1748349134.239492, '_wandb': {'runtime': 2405}, 'epoch': 83, 'test_loss': 0.41022780537605286, 'train_loss': 0.2450378799760664, 'val_loss': 0.3391582667827606}\n",
      "dict_keys(['des', 'gpu', 'itr', 'd_ff', 'data', 'freq', 'loss', 'c_out', 'embed', 'lradj', 'model', 'revin', 'affine', 'dec_in', 'distil', 'enc_in', 'factor', 'stride', 'target', 'd_model', 'devices', 'dropout', 'n_heads', 'seq_len', 'use_amp', 'use_gpu', 'd_layers', 'e_layers', 'features', 'model_id', 'patience', 'pred_len', 'data_path', 'label_len', 'patch_len', 'pct_start', 'root_path', 'test_flop', 'activation', 'batch_size', 'do_predict', 'embed_type', 'fc_dropout', 'individual', 'moving_avg', 'checkpoints', 'is_training', 'kernel_size', 'num_workers', 'random_seed', 'head_dropout', 'train_epochs', 'decomposition', 'learning_rate', 'padding_patch', 'subtract_last', 'use_multi_gpu', 'output_attention'])\n",
      "run_DLinear_custom_104\n",
      "{'des': 'Exp', 'gpu': 0, 'itr': 1, 'd_ff': 2048, 'data': 'custom', 'freq': 'h', 'loss': 'mse', 'c_out': 7, 'embed': 'timeF', 'lradj': 'type3', 'model': 'DLinear', 'revin': 1, 'affine': 0, 'dec_in': 7, 'distil': True, 'enc_in': 7, 'factor': 1, 'stride': 8, 'target': 'OT', 'd_model': 512, 'devices': '0,1,2,3', 'dropout': 0.05, 'n_heads': 8, 'seq_len': 104, 'use_amp': False, 'use_gpu': True, 'd_layers': 1, 'e_layers': 2, 'features': 'M', 'model_id': 'national_illness_104_36', 'patience': 100, 'pred_len': 36, 'data_path': 'national_illness.csv', 'label_len': 18, 'patch_len': 16, 'pct_start': 0.3, 'root_path': './dataset/', 'test_flop': False, 'activation': 'gelu', 'batch_size': 32, 'do_predict': False, 'embed_type': 0, 'fc_dropout': 0.05, 'individual': 0, 'moving_avg': 25, 'checkpoints': './checkpoints/', 'is_training': 1, 'kernel_size': 25, 'num_workers': 10, 'random_seed': 2021, 'head_dropout': 0, 'train_epochs': 100, 'decomposition': 0, 'learning_rate': 0.01, 'padding_patch': 'end', 'subtract_last': 0, 'use_multi_gpu': False, 'output_attention': False}\n",
      "{'_runtime': 132.930049798, '_step': 100, '_timestamp': 1748347291.7537837, '_wandb': {'runtime': 133}, 'epoch': 99, 'mae': 0.9980451464653016, 'mse': 2.0803866386413574, 'rse': 0.6973117589950562, 'test_loss': 2.081717014312744, 'train_loss': 0.4286212511360646, 'val_loss': 0.24853554368019104}\n",
      "dict_keys(['des', 'gpu', 'itr', 'd_ff', 'data', 'freq', 'loss', 'c_out', 'embed', 'lradj', 'model', 'revin', 'affine', 'dec_in', 'distil', 'enc_in', 'factor', 'stride', 'target', 'd_model', 'devices', 'dropout', 'n_heads', 'seq_len', 'use_amp', 'use_gpu', 'd_layers', 'e_layers', 'features', 'model_id', 'patience', 'pred_len', 'data_path', 'label_len', 'patch_len', 'pct_start', 'root_path', 'test_flop', 'activation', 'batch_size', 'do_predict', 'embed_type', 'fc_dropout', 'individual', 'moving_avg', 'checkpoints', 'is_training', 'kernel_size', 'num_workers', 'random_seed', 'head_dropout', 'train_epochs', 'decomposition', 'learning_rate', 'padding_patch', 'subtract_last', 'use_multi_gpu', 'output_attention'])\n",
      "run_DLinear_custom_104\n",
      "{'des': 'Exp', 'gpu': 0, 'itr': 1, 'd_ff': 2048, 'data': 'custom', 'freq': 'h', 'loss': 'mse', 'c_out': 7, 'embed': 'timeF', 'lradj': 'type3', 'model': 'DLinear', 'revin': 1, 'affine': 0, 'dec_in': 7, 'distil': True, 'enc_in': 7, 'factor': 1, 'stride': 8, 'target': 'OT', 'd_model': 512, 'devices': '0,1,2,3', 'dropout': 0.05, 'n_heads': 8, 'seq_len': 104, 'use_amp': False, 'use_gpu': True, 'd_layers': 1, 'e_layers': 2, 'features': 'M', 'model_id': 'national_illness_104_48', 'patience': 100, 'pred_len': 48, 'data_path': 'national_illness.csv', 'label_len': 18, 'patch_len': 16, 'pct_start': 0.3, 'root_path': './dataset/', 'test_flop': False, 'activation': 'gelu', 'batch_size': 32, 'do_predict': False, 'embed_type': 0, 'fc_dropout': 0.05, 'individual': 0, 'moving_avg': 25, 'checkpoints': './checkpoints/', 'is_training': 1, 'kernel_size': 25, 'num_workers': 10, 'random_seed': 2021, 'head_dropout': 0, 'train_epochs': 100, 'decomposition': 0, 'learning_rate': 0.01, 'padding_patch': 'end', 'subtract_last': 0, 'use_multi_gpu': False, 'output_attention': False}\n",
      "{'_runtime': 134.276266351, '_step': 100, '_timestamp': 1748347444.7928488, '_wandb': {'runtime': 134}, 'epoch': 99, 'mae': 1.0025016069412231, 'mse': 2.0640652179718018, 'rse': 0.6900765299797058, 'test_loss': 2.126819372177124, 'train_loss': 0.4639501478523016, 'val_loss': 0.24242857098579407}\n",
      "dict_keys(['des', 'gpu', 'itr', 'd_ff', 'data', 'freq', 'loss', 'c_out', 'embed', 'lradj', 'model', 'revin', 'affine', 'dec_in', 'distil', 'enc_in', 'factor', 'stride', 'target', 'd_model', 'devices', 'dropout', 'n_heads', 'seq_len', 'use_amp', 'use_gpu', 'd_layers', 'e_layers', 'features', 'model_id', 'patience', 'pred_len', 'data_path', 'label_len', 'patch_len', 'pct_start', 'root_path', 'test_flop', 'activation', 'batch_size', 'do_predict', 'embed_type', 'fc_dropout', 'individual', 'moving_avg', 'checkpoints', 'is_training', 'kernel_size', 'num_workers', 'random_seed', 'head_dropout', 'train_epochs', 'decomposition', 'learning_rate', 'padding_patch', 'subtract_last', 'use_multi_gpu', 'output_attention'])\n",
      "run_DLinear_custom_104\n",
      "{'des': 'Exp', 'gpu': 0, 'itr': 1, 'd_ff': 2048, 'data': 'custom', 'freq': 'h', 'loss': 'mse', 'c_out': 7, 'embed': 'timeF', 'lradj': 'type3', 'model': 'DLinear', 'revin': 1, 'affine': 0, 'dec_in': 7, 'distil': True, 'enc_in': 7, 'factor': 1, 'stride': 8, 'target': 'OT', 'd_model': 512, 'devices': '0,1,2,3', 'dropout': 0.05, 'n_heads': 8, 'seq_len': 104, 'use_amp': False, 'use_gpu': True, 'd_layers': 1, 'e_layers': 2, 'features': 'M', 'model_id': 'national_illness_104_60', 'patience': 100, 'pred_len': 60, 'data_path': 'national_illness.csv', 'label_len': 18, 'patch_len': 16, 'pct_start': 0.3, 'root_path': './dataset/', 'test_flop': False, 'activation': 'gelu', 'batch_size': 32, 'do_predict': False, 'embed_type': 0, 'fc_dropout': 0.05, 'individual': 0, 'moving_avg': 25, 'checkpoints': './checkpoints/', 'is_training': 1, 'kernel_size': 25, 'num_workers': 10, 'random_seed': 2021, 'head_dropout': 0, 'train_epochs': 100, 'decomposition': 0, 'learning_rate': 0.01, 'padding_patch': 'end', 'subtract_last': 0, 'use_multi_gpu': False, 'output_attention': False}\n",
      "{'_runtime': 134.668612189, '_step': 100, '_timestamp': 1748347597.8639462, '_wandb': {'runtime': 135}, 'epoch': 99, 'mae': 1.0759693384170532, 'mse': 2.2735347747802734, 'rse': 0.7205029129981995, 'test_loss': 2.3165204524993896, 'train_loss': 0.4761192109435797, 'val_loss': 0.2643539309501648}\n",
      "dict_keys(['des', 'gpu', 'itr', 'd_ff', 'data', 'freq', 'loss', 'c_out', 'embed', 'lradj', 'model', 'revin', 'affine', 'dec_in', 'distil', 'enc_in', 'factor', 'stride', 'target', 'd_model', 'devices', 'dropout', 'n_heads', 'seq_len', 'use_amp', 'use_gpu', 'd_layers', 'e_layers', 'features', 'model_id', 'patience', 'pred_len', 'data_path', 'label_len', 'patch_len', 'pct_start', 'root_path', 'test_flop', 'activation', 'batch_size', 'do_predict', 'embed_type', 'fc_dropout', 'individual', 'moving_avg', 'checkpoints', 'is_training', 'kernel_size', 'num_workers', 'random_seed', 'head_dropout', 'train_epochs', 'decomposition', 'learning_rate', 'padding_patch', 'subtract_last', 'use_multi_gpu', 'output_attention'])\n",
      "run_DLinear_ETTm1_336\n",
      "{'des': 'Exp', 'gpu': 0, 'itr': 1, 'd_ff': 2048, 'data': 'ETTm1', 'freq': 'h', 'loss': 'mse', 'c_out': 7, 'embed': 'timeF', 'lradj': 'type3', 'model': 'DLinear', 'revin': 1, 'affine': 0, 'dec_in': 7, 'distil': True, 'enc_in': 7, 'factor': 1, 'stride': 8, 'target': 'OT', 'd_model': 512, 'devices': '0,1,2,3', 'dropout': 0.05, 'n_heads': 8, 'seq_len': 336, 'use_amp': False, 'use_gpu': True, 'd_layers': 1, 'e_layers': 2, 'features': 'M', 'model_id': 'ETTm1_336_192', 'patience': 100, 'pred_len': 192, 'data_path': 'ETTm1.csv', 'label_len': 48, 'patch_len': 16, 'pct_start': 0.3, 'root_path': './dataset/', 'test_flop': False, 'activation': 'gelu', 'batch_size': 8, 'do_predict': False, 'embed_type': 0, 'fc_dropout': 0.05, 'individual': 0, 'moving_avg': 25, 'checkpoints': './checkpoints/', 'is_training': 1, 'kernel_size': 25, 'num_workers': 10, 'random_seed': 2021, 'head_dropout': 0, 'train_epochs': 100, 'decomposition': 0, 'learning_rate': 0.0001, 'padding_patch': 'end', 'subtract_last': 0, 'use_multi_gpu': False, 'output_attention': False}\n",
      "{'_runtime': 1443.493436347, '_step': 88, '_timestamp': 1748349142.6442063, '_wandb': {'runtime': 1443}, 'epoch': 88, 'test_loss': 0.33401545882225037, 'train_loss': 0.30293268794793726, 'val_loss': 0.489974707365036}\n",
      "dict_keys(['des', 'gpu', 'itr', 'd_ff', 'data', 'freq', 'loss', 'c_out', 'embed', 'lradj', 'model', 'revin', 'affine', 'dec_in', 'distil', 'enc_in', 'factor', 'stride', 'target', 'd_model', 'devices', 'dropout', 'n_heads', 'seq_len', 'use_amp', 'use_gpu', 'd_layers', 'e_layers', 'features', 'model_id', 'patience', 'pred_len', 'data_path', 'label_len', 'patch_len', 'pct_start', 'root_path', 'test_flop', 'activation', 'batch_size', 'do_predict', 'embed_type', 'fc_dropout', 'individual', 'moving_avg', 'checkpoints', 'is_training', 'kernel_size', 'num_workers', 'random_seed', 'head_dropout', 'train_epochs', 'decomposition', 'learning_rate', 'padding_patch', 'subtract_last', 'use_multi_gpu', 'output_attention'])\n"
     ]
    }
   ],
   "source": [
    "for run in runs:\n",
    "    print(run.name)\n",
    "    print(run.config)   # hyperparameters\n",
    "    print(run.summary)  # final logged metrics\n",
    "    print(run.config.keys())"
   ]
  },
  {
   "cell_type": "code",
   "execution_count": 10,
   "id": "57857fe2",
   "metadata": {},
   "outputs": [
    {
     "name": "stderr",
     "output_type": "stream",
     "text": [
      "/scratch/ipykernel_1075057/4268229683.py:15: SettingWithCopyWarning: \n",
      "A value is trying to be set on a copy of a slice from a DataFrame.\n",
      "Try using .loc[row_indexer,col_indexer] = value instead\n",
      "\n",
      "See the caveats in the documentation: https://pandas.pydata.org/pandas-docs/stable/user_guide/indexing.html#returning-a-view-versus-a-copy\n",
      "  df_subset['data_path'] = df_subset['data_path'].str.replace('.csv', '', regex=False)\n"
     ]
    },
    {
     "data": {
      "application/vnd.microsoft.datawrangler.viewer.v0+json": {
       "columns": [
        {
         "name": "index",
         "rawType": "int64",
         "type": "integer"
        },
        {
         "name": "model",
         "rawType": "object",
         "type": "string"
        },
        {
         "name": "pred_len",
         "rawType": "int64",
         "type": "integer"
        },
        {
         "name": "random_seed",
         "rawType": "int64",
         "type": "integer"
        },
        {
         "name": "data_path",
         "rawType": "object",
         "type": "string"
        },
        {
         "name": "mae",
         "rawType": "float64",
         "type": "float"
        },
        {
         "name": "mse",
         "rawType": "float64",
         "type": "float"
        }
       ],
       "ref": "472acfa2-a587-43ef-8b1f-6cb7a4f28a2d",
       "rows": [
        [
         "0",
         "DLinear",
         "24",
         "2021",
         "national_illness",
         "0.9745134711265564",
         "1.963897466659546"
        ],
        [
         "1",
         "DLinear",
         "96",
         "2021",
         "ETTh1",
         "0.3953787386417389",
         "0.3728347420692444"
        ],
        [
         "2",
         "DLinear",
         "96",
         "2021",
         "ETTh2",
         "0.3441021740436554",
         "0.27866607904434204"
        ],
        [
         "3",
         "DLinear",
         "96",
         "2021",
         "ETTm1",
         "0.3464268147945404",
         "0.3027706742286682"
        ],
        [
         "4",
         "DLinear",
         "96",
         "2021",
         "traffic",
         null,
         null
        ],
        [
         "5",
         "DLinear",
         "36",
         "2021",
         "national_illness",
         "0.9980451464653016",
         "2.0803866386413574"
        ],
        [
         "6",
         "DLinear",
         "48",
         "2021",
         "national_illness",
         "1.0025016069412231",
         "2.0640652179718018"
        ],
        [
         "7",
         "DLinear",
         "60",
         "2021",
         "national_illness",
         "1.0759693384170532",
         "2.2735347747802734"
        ],
        [
         "8",
         "DLinear",
         "192",
         "2021",
         "ETTm1",
         null,
         null
        ]
       ],
       "shape": {
        "columns": 6,
        "rows": 9
       }
      },
      "text/html": [
       "<div>\n",
       "<style scoped>\n",
       "    .dataframe tbody tr th:only-of-type {\n",
       "        vertical-align: middle;\n",
       "    }\n",
       "\n",
       "    .dataframe tbody tr th {\n",
       "        vertical-align: top;\n",
       "    }\n",
       "\n",
       "    .dataframe thead th {\n",
       "        text-align: right;\n",
       "    }\n",
       "</style>\n",
       "<table border=\"1\" class=\"dataframe\">\n",
       "  <thead>\n",
       "    <tr style=\"text-align: right;\">\n",
       "      <th></th>\n",
       "      <th>model</th>\n",
       "      <th>pred_len</th>\n",
       "      <th>random_seed</th>\n",
       "      <th>data_path</th>\n",
       "      <th>mae</th>\n",
       "      <th>mse</th>\n",
       "    </tr>\n",
       "  </thead>\n",
       "  <tbody>\n",
       "    <tr>\n",
       "      <th>0</th>\n",
       "      <td>DLinear</td>\n",
       "      <td>24</td>\n",
       "      <td>2021</td>\n",
       "      <td>national_illness</td>\n",
       "      <td>0.974513</td>\n",
       "      <td>1.963897</td>\n",
       "    </tr>\n",
       "    <tr>\n",
       "      <th>1</th>\n",
       "      <td>DLinear</td>\n",
       "      <td>96</td>\n",
       "      <td>2021</td>\n",
       "      <td>ETTh1</td>\n",
       "      <td>0.395379</td>\n",
       "      <td>0.372835</td>\n",
       "    </tr>\n",
       "    <tr>\n",
       "      <th>2</th>\n",
       "      <td>DLinear</td>\n",
       "      <td>96</td>\n",
       "      <td>2021</td>\n",
       "      <td>ETTh2</td>\n",
       "      <td>0.344102</td>\n",
       "      <td>0.278666</td>\n",
       "    </tr>\n",
       "    <tr>\n",
       "      <th>3</th>\n",
       "      <td>DLinear</td>\n",
       "      <td>96</td>\n",
       "      <td>2021</td>\n",
       "      <td>ETTm1</td>\n",
       "      <td>0.346427</td>\n",
       "      <td>0.302771</td>\n",
       "    </tr>\n",
       "    <tr>\n",
       "      <th>4</th>\n",
       "      <td>DLinear</td>\n",
       "      <td>96</td>\n",
       "      <td>2021</td>\n",
       "      <td>traffic</td>\n",
       "      <td>NaN</td>\n",
       "      <td>NaN</td>\n",
       "    </tr>\n",
       "    <tr>\n",
       "      <th>5</th>\n",
       "      <td>DLinear</td>\n",
       "      <td>36</td>\n",
       "      <td>2021</td>\n",
       "      <td>national_illness</td>\n",
       "      <td>0.998045</td>\n",
       "      <td>2.080387</td>\n",
       "    </tr>\n",
       "    <tr>\n",
       "      <th>6</th>\n",
       "      <td>DLinear</td>\n",
       "      <td>48</td>\n",
       "      <td>2021</td>\n",
       "      <td>national_illness</td>\n",
       "      <td>1.002502</td>\n",
       "      <td>2.064065</td>\n",
       "    </tr>\n",
       "    <tr>\n",
       "      <th>7</th>\n",
       "      <td>DLinear</td>\n",
       "      <td>60</td>\n",
       "      <td>2021</td>\n",
       "      <td>national_illness</td>\n",
       "      <td>1.075969</td>\n",
       "      <td>2.273535</td>\n",
       "    </tr>\n",
       "    <tr>\n",
       "      <th>8</th>\n",
       "      <td>DLinear</td>\n",
       "      <td>192</td>\n",
       "      <td>2021</td>\n",
       "      <td>ETTm1</td>\n",
       "      <td>NaN</td>\n",
       "      <td>NaN</td>\n",
       "    </tr>\n",
       "  </tbody>\n",
       "</table>\n",
       "</div>"
      ],
      "text/plain": [
       "     model  pred_len  random_seed         data_path       mae       mse\n",
       "0  DLinear        24         2021  national_illness  0.974513  1.963897\n",
       "1  DLinear        96         2021             ETTh1  0.395379  0.372835\n",
       "2  DLinear        96         2021             ETTh2  0.344102  0.278666\n",
       "3  DLinear        96         2021             ETTm1  0.346427  0.302771\n",
       "4  DLinear        96         2021           traffic       NaN       NaN\n",
       "5  DLinear        36         2021  national_illness  0.998045  2.080387\n",
       "6  DLinear        48         2021  national_illness  1.002502  2.064065\n",
       "7  DLinear        60         2021  national_illness  1.075969  2.273535\n",
       "8  DLinear       192         2021             ETTm1       NaN       NaN"
      ]
     },
     "metadata": {},
     "output_type": "display_data"
    }
   ],
   "source": [
    "\n",
    "run_data = []\n",
    "\n",
    "for run in runs:\n",
    "    summary = run.summary._json_dict\n",
    "    config = {k: v for k, v in run.config.items() if not k.startswith('_')}\n",
    "    run_data.append({**config, **summary, \"run_id\": run.id, \"name\": run.name})\n",
    "\n",
    "df = pd.DataFrame(run_data)\n",
    "\n",
    "\n",
    "columns_to_keep = ['model', 'pred_len', 'random_seed', 'data_path', 'mae', 'mse']\n",
    "\n",
    "# Keep only those columns\n",
    "df_subset = df[columns_to_keep]\n",
    "df_subset['data_path'] = df_subset['data_path'].str.replace('.csv', '', regex=False)\n",
    "\n",
    "display(df_subset)\n",
    "#print(df.columns)"
   ]
  }
 ],
 "metadata": {
  "kernelspec": {
   "display_name": "PatchTST",
   "language": "python",
   "name": "python3"
  },
  "language_info": {
   "codemirror_mode": {
    "name": "ipython",
    "version": 3
   },
   "file_extension": ".py",
   "mimetype": "text/x-python",
   "name": "python",
   "nbconvert_exporter": "python",
   "pygments_lexer": "ipython3",
   "version": "3.10.16"
  }
 },
 "nbformat": 4,
 "nbformat_minor": 5
}
