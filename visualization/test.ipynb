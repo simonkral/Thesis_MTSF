{
 "cells": [
  {
   "cell_type": "markdown",
   "id": "3aa4f1d7",
   "metadata": {},
   "source": [
    "### Visualize W&B results"
   ]
  },
  {
   "cell_type": "code",
   "execution_count": 1,
   "id": "1e6eff7e",
   "metadata": {},
   "outputs": [
    {
     "name": "stderr",
     "output_type": "stream",
     "text": [
      "\u001b[34m\u001b[1mwandb\u001b[0m: Currently logged in as: \u001b[33msimonkral99\u001b[0m (\u001b[33muni-ma\u001b[0m) to \u001b[32mhttps://api.wandb.ai\u001b[0m. Use \u001b[1m`wandb login --relogin`\u001b[0m to force relogin\n"
     ]
    },
    {
     "data": {
      "text/plain": [
       "True"
      ]
     },
     "execution_count": 1,
     "metadata": {},
     "output_type": "execute_result"
    }
   ],
   "source": [
    "import wandb\n",
    "wandb.login()"
   ]
  },
  {
   "cell_type": "code",
   "execution_count": 2,
   "id": "34f63be8",
   "metadata": {},
   "outputs": [],
   "source": [
    "api = wandb.Api()\n",
    "\n",
    "# Replace with your actual W&B username and project name\n",
    "runs = api.runs(\"simonkral99/Thesis_MTSF\")"
   ]
  },
  {
   "cell_type": "code",
   "execution_count": 4,
   "id": "7c7147b4",
   "metadata": {},
   "outputs": [
    {
     "name": "stdout",
     "output_type": "stream",
     "text": [
      "run_DLinear_custom_104\n",
      "{'des': 'Exp', 'gpu': 0, 'itr': 1, 'd_ff': 2048, 'data': 'custom', 'freq': 'h', 'loss': 'mse', 'c_out': 7, 'embed': 'timeF', 'lradj': 'type3', 'model': 'DLinear', 'revin': 1, 'affine': 0, 'dec_in': 7, 'distil': True, 'enc_in': 7, 'factor': 1, 'stride': 8, 'target': 'OT', 'd_model': 512, 'devices': '0,1,2,3', 'dropout': 0.05, 'n_heads': 8, 'seq_len': 104, 'use_amp': False, 'use_gpu': True, 'd_layers': 1, 'e_layers': 2, 'features': 'M', 'model_id': 'national_illness_104_24', 'patience': 100, 'pred_len': 24, 'data_path': 'national_illness.csv', 'label_len': 18, 'patch_len': 16, 'pct_start': 0.3, 'root_path': './dataset/', 'test_flop': False, 'activation': 'gelu', 'batch_size': 32, 'do_predict': False, 'embed_type': 0, 'fc_dropout': 0.05, 'individual': 0, 'moving_avg': 25, 'checkpoints': './checkpoints/', 'is_training': 1, 'kernel_size': 25, 'num_workers': 10, 'random_seed': 2021, 'head_dropout': 0, 'train_epochs': 100, 'decomposition': 0, 'learning_rate': 0.01, 'padding_patch': 'end', 'subtract_last': 0, 'use_multi_gpu': False, 'output_attention': False}\n",
      "{'_runtime': 148.253425636, '_step': 99, '_timestamp': 1747821037.0526192, '_wandb': {'runtime': 150}, 'epoch': 99, 'test_loss': 1.9655284881591797, 'train_loss': 0.4167087910806431, 'val_loss': 0.28212088346481323}\n"
     ]
    }
   ],
   "source": [
    "for run in runs:\n",
    "    print(run.name)\n",
    "    print(run.config)   # hyperparameters\n",
    "    print(run.summary)  # final logged metrics"
   ]
  }
 ],
 "metadata": {
  "kernelspec": {
   "display_name": "PatchTST",
   "language": "python",
   "name": "python3"
  },
  "language_info": {
   "codemirror_mode": {
    "name": "ipython",
    "version": 3
   },
   "file_extension": ".py",
   "mimetype": "text/x-python",
   "name": "python",
   "nbconvert_exporter": "python",
   "pygments_lexer": "ipython3",
   "version": "3.10.16"
  }
 },
 "nbformat": 4,
 "nbformat_minor": 5
}
