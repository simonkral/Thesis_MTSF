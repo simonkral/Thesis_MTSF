{
 "cells": [
  {
   "cell_type": "code",
   "execution_count": 1,
   "id": "d4c75aaf",
   "metadata": {},
   "outputs": [],
   "source": [
    "import pandas as pd\n",
    "import wandb"
   ]
  },
  {
   "cell_type": "code",
   "execution_count": 2,
   "id": "4ac745c3",
   "metadata": {},
   "outputs": [
    {
     "name": "stderr",
     "output_type": "stream",
     "text": [
      "\u001b[34m\u001b[1mwandb\u001b[0m: Currently logged in as: \u001b[33msimonkral99\u001b[0m (\u001b[33muni-ma\u001b[0m) to \u001b[32mhttps://api.wandb.ai\u001b[0m. Use \u001b[1m`wandb login --relogin`\u001b[0m to force relogin\n"
     ]
    }
   ],
   "source": [
    "wandb.login()\n",
    "api = wandb.Api()\n",
    "\n",
    "# Replace with your actual W&B username and project name\n",
    "runs = api.runs(\"simonkral99/Thesis_MTSF\")"
   ]
  },
  {
   "cell_type": "code",
   "execution_count": 3,
   "id": "ea77dfff",
   "metadata": {},
   "outputs": [],
   "source": [
    "run_data = []\n",
    "for run in runs:\n",
    "    summary = run.summary._json_dict\n",
    "    config = {k: v for k, v in run.config.items() if not k.startswith('_')}\n",
    "    run_data.append({**config, **summary, \"run_id\": run.id, \"name\": run.name})\n",
    "df = pd.DataFrame(run_data)\n",
    "\n",
    "columns_to_keep = ['model', 'pred_len', 'random_seed', 'patience', 'data_path', 'mae', 'mse', 'seq_len', 'conv_kernel_size', 'n_blocks', 'cd_regularization', 'learn_cd_regularization', \n",
    "                'convex', 'sigmoid', 'lambda_freeze_patience', \"cd_weight_decay\", \"mse_train\", \"mae_train\", \"mse_train_per_channel_list\", \"mse_per_channel_list\"\n",
    "                , \"mae_train_per_channel_list\", \"mae_per_channel_list\", \"channel_handling\", \"learning_rate\", \"batch_size\", \"head_dropout\", \"dropout\", \"delta_factor\", \"setting_string\",\n",
    "                \"skip_1st_epoch\"]\n",
    "\n",
    "df = df[columns_to_keep].copy()\n",
    "df['data_path'] = df['data_path'].str.replace('.csv', '', regex=False)\n",
    "\n",
    "df.to_pickle(\"wandb_runs.pkl\")"
   ]
  }
 ],
 "metadata": {
  "kernelspec": {
   "display_name": "PatchTST",
   "language": "python",
   "name": "python3"
  },
  "language_info": {
   "codemirror_mode": {
    "name": "ipython",
    "version": 3
   },
   "file_extension": ".py",
   "mimetype": "text/x-python",
   "name": "python",
   "nbconvert_exporter": "python",
   "pygments_lexer": "ipython3",
   "version": "3.10.16"
  }
 },
 "nbformat": 4,
 "nbformat_minor": 5
}
