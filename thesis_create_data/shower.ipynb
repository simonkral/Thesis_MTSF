{
 "cells": [
  {
   "cell_type": "code",
   "execution_count": 1,
   "id": "5b4c0332",
   "metadata": {},
   "outputs": [],
   "source": [
    "import pandas as pd"
   ]
  },
  {
   "cell_type": "code",
   "execution_count": 2,
   "id": "4e6821b7",
   "metadata": {},
   "outputs": [],
   "source": [
    "# ILI\n",
    "lags = [0, 9, 18, 24, 60]\n",
    "\n",
    "for lag in lags:\n",
    "    df = pd.read_csv(\"/pfs/work9/workspace/scratch/ma_skral-SK_thesis_2025/Thesis_MTSF/PatchTST/PatchTST_supervised/dataset/national_illness.csv\")\n",
    "    df_filtered = df.iloc[:, :2]\n",
    "    df_filtered.columns = ['date', '%_WEIGHTED_ILI']\n",
    "\n",
    "    df_filtered['%_WEIGHTED_ILI_LAG'] = df_filtered.iloc[:, 1].shift(lag)\n",
    "    \n",
    "    #df_filtered = df_filtered.dropna()\n",
    "    df_filtered = df_filtered.iloc[max(lags):]      # Remove equal number of rows for all lags > so comparison is possible\n",
    "\n",
    "    df_filtered.to_csv(f\"/pfs/work9/workspace/scratch/ma_skral-SK_thesis_2025/Thesis_MTSF/PatchTST/PatchTST_supervised/dataset/_national_illness_shower_lag_{lag}.csv\", index=False)"
   ]
  },
  {
   "cell_type": "code",
   "execution_count": 3,
   "id": "7cc8a29a",
   "metadata": {},
   "outputs": [],
   "source": [
    "lags = [0, 48, 96, 336]\n",
    "\n",
    "for lag in lags:\n",
    "    df = pd.read_csv(\"/pfs/work9/workspace/scratch/ma_skral-SK_thesis_2025/Thesis_MTSF/PatchTST/PatchTST_supervised/dataset/weather.csv\")\n",
    "    df_filtered = df[[\"date\", \"T (degC)\"]].copy()\n",
    "    df_filtered.columns = [\"date\", \"T_degC\"]\n",
    "\n",
    "    df_filtered['T_degC_LAG'] = df_filtered[\"T_degC\"].shift(lag)\n",
    "    \n",
    "    #df_filtered = df_filtered.dropna()\n",
    "    df_filtered = df_filtered.iloc[max(lags):]      # Remove equal number of rows for all lags > so comparison is possible\n",
    "\n",
    "    df_filtered.to_csv(f\"/pfs/work9/workspace/scratch/ma_skral-SK_thesis_2025/Thesis_MTSF/PatchTST/PatchTST_supervised/dataset/_weather_shower_lag_{lag}.csv\", index=False)"
   ]
  }
 ],
 "metadata": {
  "kernelspec": {
   "display_name": "PatchTST",
   "language": "python",
   "name": "python3"
  },
  "language_info": {
   "codemirror_mode": {
    "name": "ipython",
    "version": 3
   },
   "file_extension": ".py",
   "mimetype": "text/x-python",
   "name": "python",
   "nbconvert_exporter": "python",
   "pygments_lexer": "ipython3",
   "version": "3.10.16"
  }
 },
 "nbformat": 4,
 "nbformat_minor": 5
}
