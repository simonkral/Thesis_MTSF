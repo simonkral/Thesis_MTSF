{
 "cells": [
  {
   "cell_type": "code",
   "execution_count": 2,
   "id": "5b4c0332",
   "metadata": {},
   "outputs": [],
   "source": [
    "import pandas as pd"
   ]
  },
  {
   "cell_type": "code",
   "execution_count": null,
   "id": "4e6821b7",
   "metadata": {},
   "outputs": [],
   "source": [
    "# ILI\n",
    "\n",
    "lags = [0, 9, 18, 24, 60]\n",
    "\n",
    "for lag in lags:\n",
    "    df = pd.read_csv(\"/pfs/work9/workspace/scratch/ma_skral-SK_thesis_2025/Thesis_MTSF/PatchTST/PatchTST_supervised/dataset/national_illness.csv\")\n",
    "    df_filtered = df.iloc[:, :2]\n",
    "    df_filtered.columns = ['date', '%_WEIGHTED_ILI']\n",
    "\n",
    "    df_filtered['%_WEIGHTED_ILI_LAG'] = df_filtered.iloc[:, 1].shift(lag)\n",
    "    df_filtered = df_filtered.dropna()\n",
    "\n",
    "    df_filtered.to_csv(f\"/pfs/work9/workspace/scratch/ma_skral-SK_thesis_2025/Thesis_MTSF/PatchTST/PatchTST_supervised/dataset/_national_illness_shower_lag_{lag}.csv\", index=False)"
   ]
  },
  {
   "cell_type": "code",
   "execution_count": 3,
   "id": "7cc8a29a",
   "metadata": {},
   "outputs": [
    {
     "name": "stderr",
     "output_type": "stream",
     "text": [
      "/scratch/ipykernel_4022021/3155228898.py:8: SettingWithCopyWarning: \n",
      "A value is trying to be set on a copy of a slice from a DataFrame.\n",
      "Try using .loc[row_indexer,col_indexer] = value instead\n",
      "\n",
      "See the caveats in the documentation: https://pandas.pydata.org/pandas-docs/stable/user_guide/indexing.html#returning-a-view-versus-a-copy\n",
      "  df_filtered['T_(degC)_LAG'] = df_filtered[\"T_(degC)\"].shift(lag)\n"
     ]
    }
   ],
   "source": [
    "lags = [96]\n",
    "\n",
    "for lag in lags:\n",
    "    df = pd.read_csv(\"/pfs/work9/workspace/scratch/ma_skral-SK_thesis_2025/Thesis_MTSF/PatchTST/PatchTST_supervised/dataset/weather.csv\")\n",
    "    df_filtered = df[[\"date\", \"T (degC)\"]]\n",
    "    df_filtered.columns = [\"date\", \"T_(degC)\"]\n",
    "\n",
    "    df_filtered['T_(degC)_LAG'] = df_filtered[\"T_(degC)\"].shift(lag)\n",
    "    df_filtered = df_filtered.dropna()\n",
    "\n",
    "    df_filtered.to_csv(f\"/pfs/work9/workspace/scratch/ma_skral-SK_thesis_2025/Thesis_MTSF/PatchTST/PatchTST_supervised/dataset/_weather_shower_lag_{lag}.csv\", index=False)"
   ]
  }
 ],
 "metadata": {
  "kernelspec": {
   "display_name": "PatchTST",
   "language": "python",
   "name": "python3"
  },
  "language_info": {
   "codemirror_mode": {
    "name": "ipython",
    "version": 3
   },
   "file_extension": ".py",
   "mimetype": "text/x-python",
   "name": "python",
   "nbconvert_exporter": "python",
   "pygments_lexer": "ipython3",
   "version": "3.10.16"
  }
 },
 "nbformat": 4,
 "nbformat_minor": 5
}
