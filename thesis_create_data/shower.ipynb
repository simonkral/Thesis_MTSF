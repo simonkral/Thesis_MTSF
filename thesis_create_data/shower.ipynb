{
 "cells": [
  {
   "cell_type": "code",
   "execution_count": 3,
   "id": "5b4c0332",
   "metadata": {},
   "outputs": [],
   "source": [
    "import pandas as pd\n",
    "import matplotlib.pyplot as plt"
   ]
  },
  {
   "cell_type": "code",
   "execution_count": null,
   "id": "7cc8a29a",
   "metadata": {},
   "outputs": [],
   "source": [
    "# weather\n",
    "lags = [0, 48, 96, 192, 336, 720]\n",
    "\n",
    "for lag in lags:\n",
    "    df = pd.read_csv(\"../PatchTST/PatchTST_supervised/dataset/weather.csv\")\n",
    "    \n",
    "    df_filtered = df[[\"date\", \"T (degC)\"]].copy()\n",
    "    df_filtered.columns = [\"date\", \"T_degC\"]\n",
    "\n",
    "    df_filtered['T_degC_LAG'] = df_filtered[\"T_degC\"].shift(lag)\n",
    "\n",
    "    df_filtered = df_filtered.iloc[max(lags):]      # Remove equal number of rows for all lags > so comparison is possible\n",
    "\n",
    "    df_filtered.to_csv(f\"../PatchTST/PatchTST_supervised/dataset/_weather_shower_lag_{lag}_T_degC.csv\", index=False)"
   ]
  }
 ],
 "metadata": {
  "kernelspec": {
   "display_name": "PatchTST",
   "language": "python",
   "name": "python3"
  },
  "language_info": {
   "codemirror_mode": {
    "name": "ipython",
    "version": 3
   },
   "file_extension": ".py",
   "mimetype": "text/x-python",
   "name": "python",
   "nbconvert_exporter": "python",
   "pygments_lexer": "ipython3",
   "version": "3.10.16"
  }
 },
 "nbformat": 4,
 "nbformat_minor": 5
}
